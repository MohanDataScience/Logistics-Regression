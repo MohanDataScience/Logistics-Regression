{
 "cells": [
  {
   "cell_type": "markdown",
   "id": "171704d7",
   "metadata": {},
   "source": [
    "# Task1:Simple interest & compond interest"
   ]
  },
  {
   "cell_type": "code",
   "execution_count": 1,
   "id": "31d565ff",
   "metadata": {},
   "outputs": [
    {
     "name": "stdout",
     "output_type": "stream",
     "text": [
      "Simple interest:\n",
      "SI= 24000.0\n",
      "Total amount 124000.0\n"
     ]
    }
   ],
   "source": [
    "print(\"Simple interest:\")\n",
    "p=100000 #indian rupees\n",
    "t=2#time in years\n",
    "r=12#rate of interest\n",
    "SI=(p*t*r)/100\n",
    "print(\"SI=\",SI)\n",
    "print(\"Total amount\",SI+p)"
   ]
  },
  {
   "cell_type": "code",
   "execution_count": 2,
   "id": "a65b5798",
   "metadata": {},
   "outputs": [
    {
     "name": "stdout",
     "output_type": "stream",
     "text": [
      "Compond Inerest:\n",
      "Compond interst 125440\n"
     ]
    }
   ],
   "source": [
    "print(\"Compond Inerest:\")\n",
    "p=100000\n",
    "t=2\n",
    "r=12\n",
    "n=1\n",
    "a=p*(1+r/n)**(r*n)\n",
    "a1=p*(pow((1+r/100),t))\n",
    "print(\"Compond interst\",int(a1))\n"
   ]
  },
  {
   "cell_type": "markdown",
   "id": "35c5bfd4",
   "metadata": {},
   "source": [
    "# Task2:print,type,comments,variable"
   ]
  },
  {
   "cell_type": "code",
   "execution_count": 3,
   "id": "59b0072b",
   "metadata": {},
   "outputs": [
    {
     "name": "stdout",
     "output_type": "stream",
     "text": [
      "Hello worls\n",
      "Hello Goodmorning\n",
      "10 20 30 40\n",
      "50 50 50 50\n"
     ]
    }
   ],
   "source": [
    "print(\"Hello worls\")\n",
    "print(\"Hello Goodmorning\")\n",
    "#variable\n",
    "a,b,c,d=10,20,30,40\n",
    "e=f=g=h=50\n",
    "print(a,b,c,d)\n",
    "print(e,f,g,h)\n"
   ]
  },
  {
   "cell_type": "code",
   "execution_count": 4,
   "id": "38478645",
   "metadata": {},
   "outputs": [
    {
     "name": "stdout",
     "output_type": "stream",
     "text": [
      "<class 'int'> <class 'float'> <class 'complex'> <class 'complex'> <class 'bool'>\n"
     ]
    }
   ],
   "source": [
    "a=10\n",
    "b=10.5\n",
    "c=10+5j\n",
    "d=True\n",
    "e=\"10\"\n",
    "print(type(a),type(b),type(c),type(c),type(d))"
   ]
  },
  {
   "cell_type": "code",
   "execution_count": 5,
   "id": "a8428d70",
   "metadata": {},
   "outputs": [
    {
     "name": "stdout",
     "output_type": "stream",
     "text": [
      "ramu ramudu\n"
     ]
    },
    {
     "data": {
      "text/plain": [
       "'ramudu\\nmanchi\\nbaludu'"
      ]
     },
     "execution_count": 5,
     "metadata": {},
     "output_type": "execute_result"
    }
   ],
   "source": [
    "#comments   1. single line comments      2.multiline comments\n",
    "a='ramu'\n",
    "b=\"ramudu\"\n",
    "print(a,b)\n",
    "'''ramudu\n",
    "manchi\n",
    "baludu'''\n"
   ]
  },
  {
   "cell_type": "markdown",
   "id": "01550f67",
   "metadata": {},
   "source": [
    "# Task3:Type Conversions"
   ]
  },
  {
   "cell_type": "code",
   "execution_count": 6,
   "id": "4d2dc7bb",
   "metadata": {},
   "outputs": [
    {
     "name": "stdout",
     "output_type": "stream",
     "text": [
      "10\n",
      "<class 'int'>\n",
      "10.0\n",
      "<class 'float'>\n",
      "(10+0j)\n",
      "<class 'complex'>\n",
      "True\n",
      "<class 'bool'>\n",
      "True\n",
      "<class 'str'>\n"
     ]
    }
   ],
   "source": [
    "a=10\n",
    "print(a)\n",
    "print(type(a))\n",
    "b=float(a)\n",
    "print(b)\n",
    "print(type(b))\n",
    "c=complex(b)\n",
    "print(c)\n",
    "print(type(c))\n",
    "d=bool(c)\n",
    "print(d)\n",
    "print(type(d))\n",
    "e=str(d)\n",
    "print(d)\n",
    "print(type(e))"
   ]
  },
  {
   "cell_type": "markdown",
   "id": "8f45f050",
   "metadata": {},
   "source": [
    "# Task4: Practice on Operators:"
   ]
  },
  {
   "cell_type": "code",
   "execution_count": 7,
   "id": "f6ea64ee",
   "metadata": {},
   "outputs": [
    {
     "name": "stdout",
     "output_type": "stream",
     "text": [
      "addition:  30\n",
      "Subtraction: -10\n",
      "multiplication: 200\n",
      "division:  0.5\n",
      "floor division:  0\n",
      "Exponent operator/Power operator: 100000000000000000000\n"
     ]
    }
   ],
   "source": [
    "# a)arithmatic operators:\n",
    "a=10\n",
    "b=20\n",
    "print(\"addition: \",a+b)\n",
    "print(\"Subtraction:\",a-b)\n",
    "print(\"multiplication:\",a*b)\n",
    "print(\"division: \",a/b)\n",
    "print(\"floor division: \",a//b)\n",
    "print(\"Exponent operator/Power operator:\",a**b)\n",
    "\n"
   ]
  },
  {
   "cell_type": "code",
   "execution_count": 8,
   "id": "3b2b15b9",
   "metadata": {},
   "outputs": [
    {
     "name": "stdout",
     "output_type": "stream",
     "text": [
      "a<b True\n",
      "a<b False\n",
      "a<=b True\n",
      "a>=b False\n"
     ]
    }
   ],
   "source": [
    "#b) Relational operators(>,<,>=,<=):\n",
    "print(\"a<b\",a<b)\n",
    "print(\"a<b\",a>b)\n",
    "print(\"a<=b\",a<=b)\n",
    "print(\"a>=b\",a>=b)\n"
   ]
  },
  {
   "cell_type": "code",
   "execution_count": 9,
   "id": "bcdcd87b",
   "metadata": {},
   "outputs": [
    {
     "name": "stdout",
     "output_type": "stream",
     "text": [
      "a==b False\n",
      "a!=b True\n"
     ]
    }
   ],
   "source": [
    "#c) Equality operator(==,!=):\n",
    "print(\"a==b\",a==b)\n",
    "print(\"a!=b\",a!=b)"
   ]
  },
  {
   "cell_type": "code",
   "execution_count": 10,
   "id": "01b5cf3b",
   "metadata": {},
   "outputs": [
    {
     "name": "stdout",
     "output_type": "stream",
     "text": [
      "a and b--> 20\n",
      "a or b--> 10\n",
      "not b--> False\n",
      "\n",
      " True and False--> False\n",
      "True or False--> True\n",
      "not True--> False\n",
      "\n",
      "\n",
      "'mohan' and 'das'--> das\n",
      "'das' and 'mohan'--> mohan\n",
      "'mohan' and ''--> \n",
      "'' and 'das'--> \n",
      "\n",
      "'mohan' or 'das'--> mohan\n",
      "'das' or 'mohan'--> das\n",
      "'' or 'mohan'--> mohan\n",
      "'mohan' or ''--> mohan\n",
      "not 'mohan' --> False\n"
     ]
    }
   ],
   "source": [
    "#d) Logical operator(and,or, not):\n",
    "print(\"a and b-->\",  a and b)\n",
    "print(\"a or b-->\",a or b)\n",
    "print(\"not b-->\",not b)\n",
    "print('\\n',\"True and False-->\",True and False)\n",
    "print(\"True or False-->\",True or False)\n",
    "print(\"not True-->\",not True)\n",
    "print(\"\\n\\n'mohan' and 'das'-->\",'mohan' and 'das')\n",
    "\n",
    "print(\"'das' and 'mohan'-->\",'das' and 'mohan')\n",
    "print(\"'mohan' and ''-->\",'mohan' and '')\n",
    "print(\"'' and 'das'-->\",'' and 'mohan')\n",
    "\n",
    "print(\"\\n'mohan' or 'das'-->\",'mohan' or 'das')\n",
    "\n",
    "print(\"'das' or 'mohan'-->\",'das' or 'mohan')\n",
    "print(\"'' or 'mohan'-->\",'mohan' or '')\n",
    "print(\"'mohan' or ''-->\",'' or 'mohan')\n",
    "\n",
    "print(\"not 'mohan' -->\",not 'mohan')"
   ]
  },
  {
   "cell_type": "code",
   "execution_count": 11,
   "id": "9b14e6ba",
   "metadata": {},
   "outputs": [
    {
     "name": "stdout",
     "output_type": "stream",
     "text": [
      "4 & 5 --> 4\n",
      "4 | 5 --> 5\n",
      "4 ^ 5--> 1\n",
      "~5 -6\n",
      "10<<2--> 40\n",
      "10>>2--> 2\n"
     ]
    }
   ],
   "source": [
    "# e) bitwise operators(&,|,^,~,<<,<<):\n",
    "print(\"4 & 5 -->\",4&5)\n",
    "print(\"4 | 5 -->\",4|5)\n",
    "print(\"4 ^ 5-->\",4 ^ 5)\n",
    "print(\"~5\",~5)\n",
    "print(\"10<<2-->\", 10<<2)\n",
    "print(\"10>>2-->\",10>>2)"
   ]
  },
  {
   "cell_type": "code",
   "execution_count": 12,
   "id": "298200ee",
   "metadata": {},
   "outputs": [
    {
     "name": "stdout",
     "output_type": "stream",
     "text": [
      "30\n"
     ]
    }
   ],
   "source": [
    "# f)Ternary operator or Conditiona; operator:\n",
    "a=10\n",
    "b=20\n",
    "c=30 if a<b else 40\n",
    "print(c)"
   ]
  },
  {
   "cell_type": "code",
   "execution_count": 13,
   "id": "03045764",
   "metadata": {},
   "outputs": [
    {
     "name": "stdout",
     "output_type": "stream",
     "text": [
      "Enter a value:10\n",
      "Enter b value:20\n",
      "small number in a and b: 10\n",
      "Big number in a and b: 20\n"
     ]
    }
   ],
   "source": [
    "a=int(input(\"Enter a value:\"))\n",
    "b=int(input(\"Enter b value:\"))\n",
    "big= a if a>b else b\n",
    "small= a if a<b else b\n",
    "print(\"small number in a and b:\",small)\n",
    "print(\"Big number in a and b:\",big)"
   ]
  },
  {
   "cell_type": "code",
   "execution_count": 14,
   "id": "661d438a",
   "metadata": {},
   "outputs": [
    {
     "name": "stdout",
     "output_type": "stream",
     "text": [
      "Enter a value:30\n",
      "Enter b value:10\n",
      "Enter c value:20\n",
      "big number is : 30\n",
      "small number is: 10\n"
     ]
    }
   ],
   "source": [
    "a=int(input(\"Enter a value:\"))\n",
    "b=int(input(\"Enter b value:\"))\n",
    "c=int(input(\"Enter c value:\"))\n",
    "big=a if a>b and a>c else b if b>c else c\n",
    "small= a if a<b and a<c else b if b<c else c\n",
    "print(\"big number is :\",big)\n",
    "print(\"small number is:\",small)"
   ]
  },
  {
   "cell_type": "code",
   "execution_count": 15,
   "id": "83dea30b",
   "metadata": {},
   "outputs": [
    {
     "name": "stdout",
     "output_type": "stream",
     "text": [
      "Enter a value:10\n",
      "Enter b value:10\n",
      "a and b is Equal\n"
     ]
    }
   ],
   "source": [
    "a=int(input(\"Enter a value:\"))\n",
    "b=int(input(\"Enter b value:\"))\n",
    "print(\"a and b is Equal\" if a==b else \"a bigger then b \" if a>b else \"a smaller then b\")"
   ]
  },
  {
   "cell_type": "code",
   "execution_count": 16,
   "id": "6457ac9f",
   "metadata": {},
   "outputs": [
    {
     "name": "stdout",
     "output_type": "stream",
     "text": [
      "True\n"
     ]
    }
   ],
   "source": [
    "# g) special operators--->1. Identity operators(is, is not)\n",
    "#address comparision \"is\"\n",
    "#conent comparision \"==\"\n",
    "a=10\n",
    "b=10\n",
    "print(a is b)"
   ]
  },
  {
   "cell_type": "code",
   "execution_count": 17,
   "id": "893cf4eb",
   "metadata": {},
   "outputs": [
    {
     "name": "stdout",
     "output_type": "stream",
     "text": [
      "False\n",
      "True\n",
      "1767015650496\n",
      "1767016429312\n"
     ]
    }
   ],
   "source": [
    "a=[10,20,30]\n",
    "b=[10,20,30]\n",
    "print(a is b)#address comparision \"is\"\n",
    "print(a==b)#conent comparision \"==\"\n",
    "print(id(a))\n",
    "print(id(b))"
   ]
  },
  {
   "cell_type": "code",
   "execution_count": 18,
   "id": "bad79b4e",
   "metadata": {},
   "outputs": [
    {
     "name": "stdout",
     "output_type": "stream",
     "text": [
      "True\n",
      "True\n",
      "1767016456560\n",
      "1767016456560\n"
     ]
    }
   ],
   "source": [
    "a=\"mohan\"\n",
    "b=\"mohan\"\n",
    "print(a is b)\n",
    "print(b is a)\n",
    "print(id(a))\n",
    "print(id(b))"
   ]
  },
  {
   "cell_type": "code",
   "execution_count": 19,
   "id": "68f6b404",
   "metadata": {},
   "outputs": [
    {
     "name": "stdout",
     "output_type": "stream",
     "text": [
      "True\n",
      "False\n"
     ]
    }
   ],
   "source": [
    "# g) special operators--->2.Membership Operators(in, not in)\n",
    "x=\"pythonlife is good plotform to learn python\"\n",
    "print('python' in x)\n",
    "print('python' not in x)"
   ]
  },
  {
   "cell_type": "code",
   "execution_count": 20,
   "id": "fbf283b4",
   "metadata": {},
   "outputs": [
    {
     "name": "stdout",
     "output_type": "stream",
     "text": [
      "True\n"
     ]
    }
   ],
   "source": [
    "l=[10,20,30]\n",
    "print(10 in l)"
   ]
  },
  {
   "cell_type": "markdown",
   "id": "c96b0b7d",
   "metadata": {},
   "source": [
    "# Task5: Build Calculator using if, elif"
   ]
  },
  {
   "cell_type": "code",
   "execution_count": 21,
   "id": "f059d145",
   "metadata": {},
   "outputs": [
    {
     "name": "stdout",
     "output_type": "stream",
     "text": [
      "Enter a value:10\n",
      "Enter b value:15\n",
      "Enter your operator:+,-,*,/:/\n",
      "Division of  a and b: 0.6666666666666666\n"
     ]
    }
   ],
   "source": [
    "a=int(input(\"Enter a value:\"))\n",
    "b=int(input(\"Enter b value:\"))\n",
    "operator=input(\"Enter your operator:+,-,*,/:\")\n",
    "if operator==\"+\":\n",
    "    print(\"Addition of a and b:\",a+b)\n",
    "elif operator==\"-\":\n",
    "    print(\"subtraction of a nad b:\",a-b)\n",
    "elif operator==\"*\":\n",
    "    print(\"Multiplication of a and b:\",a*b)\n",
    "elif operator==\"/\":\n",
    "    print(\"Division of  a and b:\",a/b)\n",
    "else:\n",
    "    print(\"please enter valid operator symbol:\")"
   ]
  },
  {
   "cell_type": "markdown",
   "id": "7ec7e11d",
   "metadata": {},
   "source": [
    "# Task5: for, while , continue, break ,pass"
   ]
  },
  {
   "cell_type": "markdown",
   "id": "b04f150d",
   "metadata": {},
   "source": [
    "for loop: it is a iteration process so we can set how many times iterate the loop, for this loop we have to create one temparary variable for iteration of every element of the sequence.\n"
   ]
  },
  {
   "cell_type": "code",
   "execution_count": 22,
   "id": "a50d9638",
   "metadata": {},
   "outputs": [
    {
     "name": "stdout",
     "output_type": "stream",
     "text": [
      "0\n",
      "1\n",
      "2\n",
      "3\n",
      "4\n"
     ]
    }
   ],
   "source": [
    "for i in range(5):\n",
    "    print(i)"
   ]
  },
  {
   "cell_type": "code",
   "execution_count": 23,
   "id": "b10990d5",
   "metadata": {},
   "outputs": [
    {
     "name": "stdout",
     "output_type": "stream",
     "text": [
      "10\n",
      "20\n",
      "30\n",
      "40\n",
      "50\n"
     ]
    }
   ],
   "source": [
    "l=[10,20,30,40,50,]\n",
    "for i in l:\n",
    "    print(i)"
   ]
  },
  {
   "cell_type": "code",
   "execution_count": 24,
   "id": "ccd08b40",
   "metadata": {},
   "outputs": [
    {
     "name": "stdout",
     "output_type": "stream",
     "text": [
      "m\n",
      "o\n",
      "h\n",
      "a\n",
      "n\n"
     ]
    }
   ],
   "source": [
    "s=\"mohan\"\n",
    "for i in range(len(s)):\n",
    "    print(s[i])"
   ]
  },
  {
   "cell_type": "markdown",
   "id": "751d2cb8",
   "metadata": {},
   "source": [
    "while loop: untill and unlees loop will keep on executing up to coondtion is True, Once condition is False then it come out from the loop\n",
    "    "
   ]
  },
  {
   "cell_type": "code",
   "execution_count": 25,
   "id": "f2bd4465",
   "metadata": {},
   "outputs": [
    {
     "name": "stdout",
     "output_type": "stream",
     "text": [
      "enter any number:100\n",
      "sum= 5050\n"
     ]
    }
   ],
   "source": [
    "n=int(input(\"enter any number:\"))\n",
    "i=0\n",
    "sum=0\n",
    "while i<=n:\n",
    "    sum=sum+i\n",
    "    i+=1\n",
    "print(\"sum=\",sum)"
   ]
  },
  {
   "cell_type": "code",
   "execution_count": 26,
   "id": "7c43f9bf",
   "metadata": {},
   "outputs": [
    {
     "name": "stdout",
     "output_type": "stream",
     "text": [
      "Enter name:kesav\n",
      "thanks\n",
      "Enter name:raju\n",
      "thanks\n",
      "Enter name:ashok\n",
      "thanks\n",
      "Enter name:mohan\n",
      "thanks\n"
     ]
    }
   ],
   "source": [
    "#infinity loop\n",
    "name=\"\"\n",
    "while name!=\"mohan\":\n",
    "    name=input(\"Enter name:\")\n",
    "    print(\"thanks\")\n",
    "    "
   ]
  },
  {
   "cell_type": "code",
   "execution_count": 27,
   "id": "f0c1bef5",
   "metadata": {},
   "outputs": [
    {
     "name": "stdout",
     "output_type": "stream",
     "text": [
      "0 0\n",
      "0 1\n",
      "0 2\n",
      "0 3\n",
      "1 0\n",
      "1 1\n",
      "1 2\n",
      "1 3\n",
      "2 0\n",
      "2 1\n",
      "2 2\n",
      "2 3\n",
      "3 0\n",
      "3 1\n",
      "3 2\n",
      "3 3\n"
     ]
    }
   ],
   "source": [
    "#nested for loop\n",
    "for i in range(4):\n",
    "    for j in range(4):\n",
    "        print(i,j)\n"
   ]
  },
  {
   "cell_type": "code",
   "execution_count": 28,
   "id": "f6fd2b21",
   "metadata": {},
   "outputs": [
    {
     "name": "stdout",
     "output_type": "stream",
     "text": [
      "100\n",
      "This order not processing\n"
     ]
    }
   ],
   "source": [
    "#break\n",
    "\n",
    "kart=[100,500,400,120,300,750]\n",
    "for i in kart:\n",
    "    if i>=500:\n",
    "        print(\"This order not processing\")\n",
    "        break\n",
    "    print(i)"
   ]
  },
  {
   "cell_type": "code",
   "execution_count": 29,
   "id": "f1b6f98f",
   "metadata": {},
   "outputs": [
    {
     "name": "stdout",
     "output_type": "stream",
     "text": [
      "100\n",
      "This item not able to process 500\n",
      "400\n",
      "120\n",
      "300\n",
      "This item not able to process 750\n"
     ]
    }
   ],
   "source": [
    "#continue\n",
    "\n",
    "kart=[100,500,400,120,300,750]\n",
    "for item in kart:\n",
    "    if item>=500:\n",
    "        print(\"This item not able to process\",item)\n",
    "        continue\n",
    "    print(item)"
   ]
  },
  {
   "cell_type": "code",
   "execution_count": 30,
   "id": "c0205635",
   "metadata": {},
   "outputs": [
    {
     "name": "stdout",
     "output_type": "stream",
     "text": [
      "100/10=10.0\n",
      "hey how can you divide with zero? 0\n",
      "100/20=5.0\n",
      "100/30=3.3333333333333335\n",
      "hey how can you divide with zero? 0\n",
      "100/50=2.0\n"
     ]
    }
   ],
   "source": [
    "#  .format\n",
    "\n",
    "l=[10,0,20,30,0,50]\n",
    "for i in l:\n",
    "    if i==0:\n",
    "        print(\"hey how can you divide with zero?\",i)\n",
    "    else:\n",
    "        print(\"100/{}={}\".format(i,100/i))"
   ]
  },
  {
   "cell_type": "code",
   "execution_count": 31,
   "id": "298ee142",
   "metadata": {},
   "outputs": [
    {
     "name": "stdout",
     "output_type": "stream",
     "text": [
      "0\n",
      "9\n",
      "18\n",
      "27\n",
      "36\n",
      "45\n",
      "54\n",
      "63\n",
      "72\n",
      "81\n",
      "90\n",
      "99\n"
     ]
    }
   ],
   "source": [
    "#pass\n",
    "\n",
    "for i in range(100):\n",
    "    if i%9==0:\n",
    "        print(i)\n",
    "    else:\n",
    "        pass"
   ]
  },
  {
   "cell_type": "markdown",
   "id": "8f4fa100",
   "metadata": {},
   "source": [
    "# Task7:Pattern using for loop"
   ]
  },
  {
   "cell_type": "code",
   "execution_count": 32,
   "id": "569bd33f",
   "metadata": {},
   "outputs": [
    {
     "name": "stdout",
     "output_type": "stream",
     "text": [
      "\n",
      "*\n",
      "**\n",
      "***\n",
      "****\n",
      "*****\n"
     ]
    }
   ],
   "source": [
    "n=5\n",
    "for i in range(n+1):\n",
    "    print(\"*\"*i)"
   ]
  },
  {
   "cell_type": "code",
   "execution_count": 33,
   "id": "24bbb523",
   "metadata": {},
   "outputs": [
    {
     "name": "stdout",
     "output_type": "stream",
     "text": [
      "      \n",
      "     *\n",
      "    ***\n",
      "   *****\n",
      "  *******\n",
      " *********\n"
     ]
    }
   ],
   "source": [
    "n=5\n",
    "for i in range(n+1):\n",
    "    print((n-i)*\" \",\"*\"*(2*i-1))"
   ]
  },
  {
   "cell_type": "code",
   "execution_count": 34,
   "id": "a6135d80",
   "metadata": {},
   "outputs": [
    {
     "name": "stdout",
     "output_type": "stream",
     "text": [
      "      \n",
      "     *\n",
      "    **\n",
      "   ***\n",
      "  ****\n",
      " *****\n"
     ]
    }
   ],
   "source": [
    "n=5\n",
    "for i in range(n+1):\n",
    "    print((n-i)*\" \",\"*\"*i)"
   ]
  },
  {
   "cell_type": "code",
   "execution_count": 35,
   "id": "fb463874",
   "metadata": {},
   "outputs": [
    {
     "name": "stdout",
     "output_type": "stream",
     "text": [
      "*****\n",
      "****\n",
      "***\n",
      "**\n",
      "*\n",
      "\n"
     ]
    }
   ],
   "source": [
    "n=5\n",
    "for i in range(n+1):\n",
    "    print((n-i)*\"*\")"
   ]
  },
  {
   "cell_type": "code",
   "execution_count": 36,
   "id": "f72c8b45",
   "metadata": {},
   "outputs": [
    {
     "name": "stdout",
     "output_type": "stream",
     "text": [
      "      \n",
      "     * \n",
      "    * * \n",
      "   * * * \n",
      "  * * * * \n",
      " * * * * * \n"
     ]
    }
   ],
   "source": [
    "n=5\n",
    "for i in range(n+1):\n",
    "    print((n-i)*\" \",\"* \"*i)"
   ]
  },
  {
   "cell_type": "code",
   "execution_count": 37,
   "id": "accbc875",
   "metadata": {},
   "outputs": [
    {
     "name": "stdout",
     "output_type": "stream",
     "text": [
      " *****\n",
      "  ****\n",
      "   ***\n",
      "    **\n",
      "     *\n",
      "      \n"
     ]
    }
   ],
   "source": [
    "n=5\n",
    "for i in range(n+1):\n",
    "    print(i*\" \",\"*\"*(n-i))"
   ]
  },
  {
   "cell_type": "markdown",
   "id": "bbea738f",
   "metadata": {},
   "source": [
    "# Tasks8&9: List Documentation"
   ]
  },
  {
   "cell_type": "markdown",
   "id": "51868cd4",
   "metadata": {},
   "source": [
    "list: them  collection of elements mutable, ordered, duplicates accepted, homogenious values accepted,indexing and slicing "
   ]
  },
  {
   "cell_type": "code",
   "execution_count": 38,
   "id": "e84bbb76",
   "metadata": {},
   "outputs": [
    {
     "name": "stdout",
     "output_type": "stream",
     "text": [
      "<class 'list'>\n",
      "<class 'list'>\n"
     ]
    }
   ],
   "source": [
    "# creating list\n",
    "l=list()#or\n",
    "l1=[]\n",
    "print(type(l))\n",
    "print(type(l1))"
   ]
  },
  {
   "cell_type": "code",
   "execution_count": 39,
   "id": "f72b0e4c",
   "metadata": {},
   "outputs": [
    {
     "name": "stdout",
     "output_type": "stream",
     "text": [
      "[10, 20, 30, 40, 10]\n"
     ]
    }
   ],
   "source": [
    "l=[10,20,30,40]\n",
    "l.append(10)\n",
    "print(l)"
   ]
  },
  {
   "cell_type": "code",
   "execution_count": 40,
   "id": "4ef97491",
   "metadata": {},
   "outputs": [
    {
     "name": "stdout",
     "output_type": "stream",
     "text": [
      "[10, 20, 30, 40, 10, 70, 80, 90]\n"
     ]
    }
   ],
   "source": [
    "l.extend([70,80,90,])\n",
    "print(l)"
   ]
  },
  {
   "cell_type": "code",
   "execution_count": 41,
   "id": "b5eb5cca",
   "metadata": {},
   "outputs": [
    {
     "name": "stdout",
     "output_type": "stream",
     "text": [
      "[10, 20, 50, 30, 40, 10, 70, 80, 90]\n"
     ]
    }
   ],
   "source": [
    "l.insert(2,50)\n",
    "print(l)"
   ]
  },
  {
   "cell_type": "code",
   "execution_count": 42,
   "id": "9a6cfe78",
   "metadata": {},
   "outputs": [
    {
     "name": "stdout",
     "output_type": "stream",
     "text": [
      "[10, 20, 50, 30, 40, 10, 70, 80]\n"
     ]
    }
   ],
   "source": [
    "l.pop()\n",
    "print(l)"
   ]
  },
  {
   "cell_type": "code",
   "execution_count": 43,
   "id": "eace8511",
   "metadata": {},
   "outputs": [
    {
     "name": "stdout",
     "output_type": "stream",
     "text": [
      "[10, 20, 50, 40, 10, 70, 80]\n"
     ]
    }
   ],
   "source": [
    "l.pop(3)\n",
    "print(l)"
   ]
  },
  {
   "cell_type": "code",
   "execution_count": 44,
   "id": "4c4c6a07",
   "metadata": {},
   "outputs": [
    {
     "name": "stdout",
     "output_type": "stream",
     "text": [
      "[10, 50, 40, 10, 70, 80]\n"
     ]
    }
   ],
   "source": [
    "l.remove(20)\n",
    "print(l)"
   ]
  },
  {
   "cell_type": "code",
   "execution_count": 45,
   "id": "005bd917",
   "metadata": {},
   "outputs": [
    {
     "name": "stdout",
     "output_type": "stream",
     "text": [
      "[10, 40, 10, 70, 80]\n"
     ]
    }
   ],
   "source": [
    "del l[1]\n",
    "print(l)"
   ]
  },
  {
   "cell_type": "code",
   "execution_count": 46,
   "id": "2ac0973a",
   "metadata": {},
   "outputs": [
    {
     "name": "stdout",
     "output_type": "stream",
     "text": [
      "[]\n"
     ]
    }
   ],
   "source": [
    "l.clear()\n",
    "print(l)"
   ]
  },
  {
   "cell_type": "code",
   "execution_count": 47,
   "id": "027f9867",
   "metadata": {},
   "outputs": [
    {
     "name": "stdout",
     "output_type": "stream",
     "text": [
      "[40, 30, 20, 10]\n"
     ]
    }
   ],
   "source": [
    "l=[10,20,30,40]\n",
    "l.reverse()\n",
    "print(l)"
   ]
  },
  {
   "cell_type": "code",
   "execution_count": 48,
   "id": "ef141776",
   "metadata": {},
   "outputs": [
    {
     "name": "stdout",
     "output_type": "stream",
     "text": [
      "[10, 20, 30, 40]\n"
     ]
    }
   ],
   "source": [
    "l.sort()\n",
    "print(l)"
   ]
  },
  {
   "cell_type": "code",
   "execution_count": 49,
   "id": "58f9a7cc",
   "metadata": {},
   "outputs": [
    {
     "name": "stdout",
     "output_type": "stream",
     "text": [
      "[10, 20, 30, 40, 10, 20, 30, 40]\n",
      "[10, 20, 30, 40, 10, 20, 30, 40, 10, 20, 30, 40]\n"
     ]
    }
   ],
   "source": [
    "l1=l+l\n",
    "print(l1)\n",
    "l2=l*3\n",
    "print(l2)"
   ]
  },
  {
   "cell_type": "code",
   "execution_count": 50,
   "id": "0d2b4eed",
   "metadata": {},
   "outputs": [
    {
     "name": "stdout",
     "output_type": "stream",
     "text": [
      "[[10, 20, 30, 40], [10, 20, 30, 40, 10, 20, 30, 40], [10, 20, 30, 40, 10, 20, 30, 40, 10, 20, 30, 40]]\n"
     ]
    }
   ],
   "source": [
    "l3=[l,l1,l2]\n",
    "print(l3)"
   ]
  },
  {
   "cell_type": "code",
   "execution_count": 51,
   "id": "df15235b",
   "metadata": {},
   "outputs": [
    {
     "name": "stdout",
     "output_type": "stream",
     "text": [
      "['o', 'a']\n",
      "no.of vowels present in  mohandas 2\n"
     ]
    }
   ],
   "source": [
    "s=\"mohandas\"\n",
    "v=['a','e','i','o','u']\n",
    "l=[]\n",
    "for i in s:\n",
    "    if i in v:\n",
    "        if i not in l:\n",
    "            l.append(i)\n",
    "print(l)\n",
    "print(\"no.of vowels present in \",s,len(l))"
   ]
  },
  {
   "cell_type": "code",
   "execution_count": 52,
   "id": "f912bfc2",
   "metadata": {},
   "outputs": [
    {
     "name": "stdout",
     "output_type": "stream",
     "text": [
      "[0, 1, 4, 9, 16] [0, 2, 4, 6, 8] [0, 3, 6, 9, 12]\n"
     ]
    }
   ],
   "source": [
    "#List Comprehension\n",
    "l=[x*x for x in range(5)]\n",
    "m=[x+x for x in range(5)]\n",
    "n=[x*3 for x in range(5)]\n",
    "print(l,m,n)"
   ]
  },
  {
   "cell_type": "markdown",
   "id": "02da9099",
   "metadata": {},
   "source": [
    "# Task10: String Documentation"
   ]
  },
  {
   "cell_type": "markdown",
   "id": "1c613e40",
   "metadata": {},
   "source": [
    "String: any sequence of charecters with in single or double quotes is considered as String."
   ]
  },
  {
   "cell_type": "code",
   "execution_count": 53,
   "id": "7867d6ea",
   "metadata": {},
   "outputs": [
    {
     "name": "stdout",
     "output_type": "stream",
     "text": [
      "<class 'str'>\n"
     ]
    }
   ],
   "source": [
    "s=\"mohan\"\n",
    "print(type(s))"
   ]
  },
  {
   "cell_type": "code",
   "execution_count": 54,
   "id": "51f14e6f",
   "metadata": {},
   "outputs": [
    {
     "name": "stdout",
     "output_type": "stream",
     "text": [
      "m positive indexing is 0 negative indexing -5\n",
      "o positive indexing is 1 negative indexing -4\n",
      "h positive indexing is 2 negative indexing -3\n",
      "a positive indexing is 3 negative indexing -2\n",
      "n positive indexing is 4 negative indexing -1\n"
     ]
    }
   ],
   "source": [
    "#accessing charecters by using indexing\n",
    "for i in range(len(s)):\n",
    "    print(s[i],\"positive indexing is\",i,\"negative indexing\",(i-len(s)))\n"
   ]
  },
  {
   "cell_type": "code",
   "execution_count": 55,
   "id": "10a81ebd",
   "metadata": {},
   "outputs": [
    {
     "data": {
      "text/plain": [
       "'mohandas'"
      ]
     },
     "execution_count": 55,
     "metadata": {},
     "output_type": "execute_result"
    }
   ],
   "source": [
    "#slicing:s[start:stop:step]\n",
    "s=\"mohandaskaramchandgandhi\"\n",
    "s[0:8]"
   ]
  },
  {
   "cell_type": "code",
   "execution_count": 56,
   "id": "330f7002",
   "metadata": {},
   "outputs": [
    {
     "data": {
      "text/plain": [
       "'gandhi'"
      ]
     },
     "execution_count": 56,
     "metadata": {},
     "output_type": "execute_result"
    }
   ],
   "source": [
    "s[18::]"
   ]
  },
  {
   "cell_type": "code",
   "execution_count": 57,
   "id": "65c3650f",
   "metadata": {},
   "outputs": [
    {
     "data": {
      "text/plain": [
       "'gandhi'"
      ]
     },
     "execution_count": 57,
     "metadata": {},
     "output_type": "execute_result"
    }
   ],
   "source": [
    "s[-6:]"
   ]
  },
  {
   "cell_type": "code",
   "execution_count": 58,
   "id": "39dd92ae",
   "metadata": {},
   "outputs": [
    {
     "name": "stdout",
     "output_type": "stream",
     "text": [
      "mohandas\n",
      "mohanmohan\n"
     ]
    }
   ],
   "source": [
    "s=\"mohan\"\n",
    "s1=\"das\"\n",
    "\n",
    "print(s+s1)\n",
    "print(s*2)"
   ]
  },
  {
   "cell_type": "code",
   "execution_count": 59,
   "id": "a13e0c86",
   "metadata": {},
   "outputs": [
    {
     "name": "stdout",
     "output_type": "stream",
     "text": [
      "foreword direction with negative indexing\n",
      "Learning python in codinggrad\n"
     ]
    }
   ],
   "source": [
    "s=\"Learning python in codinggrad\"\n",
    "i=0\n",
    "rev=\"\"\n",
    "n=len(s)\n",
    "#print(\"backword direction direction\")\n",
    "while i<n:\n",
    "    rev=s[i]+rev\n",
    "    i+=1\n",
    "#print(rev)\n",
    "i=1\n",
    "rev2=\"\"\n",
    "print(\"foreword direction with negative indexing\")\n",
    "while -i>-n:\n",
    "    rev2=s[-i]+rev2\n",
    "    i+=1\n",
    "print(s[0]+rev2)"
   ]
  },
  {
   "cell_type": "code",
   "execution_count": 60,
   "id": "da8a7dbf",
   "metadata": {},
   "outputs": [
    {
     "name": "stdout",
     "output_type": "stream",
     "text": [
      "True\n"
     ]
    }
   ],
   "source": [
    "#membershio operator with string\n",
    "print(\"python\" in s)"
   ]
  },
  {
   "cell_type": "code",
   "execution_count": 61,
   "id": "d1e92ee2",
   "metadata": {},
   "outputs": [
    {
     "name": "stdout",
     "output_type": "stream",
     "text": [
      "True\n"
     ]
    }
   ],
   "source": [
    "print(\"java\" not in s)"
   ]
  },
  {
   "cell_type": "code",
   "execution_count": 62,
   "id": "06510a89",
   "metadata": {},
   "outputs": [
    {
     "name": "stdout",
     "output_type": "stream",
     "text": [
      "Enter first String :mohan\n",
      "Enter second string :kesav\n",
      "s1 is greaterthen s2\n"
     ]
    }
   ],
   "source": [
    "#Comparision of strings\n",
    "s1=input(\"Enter first String :\")\n",
    "s2=input(\"Enter second string :\")\n",
    "if s1==s2:\n",
    "    print(\" both are same\")\n",
    "elif s1<s2:\n",
    "    print(\"s1 is smaller then s2\")\n",
    "elif s1>s2:\n",
    "    print(\"s1 is greaterthen s2\")\n",
    "else:\n",
    "    print(\"endukila..........\")"
   ]
  },
  {
   "cell_type": "code",
   "execution_count": 63,
   "id": "dd3d9a54",
   "metadata": {},
   "outputs": [
    {
     "name": "stdout",
     "output_type": "stream",
     "text": [
      "enter your city    hyderabad    \n",
      "hyderabad\n"
     ]
    }
   ],
   "source": [
    "#wap removing spaces from strings\n",
    "city=input(\"enter your city\").strip()\n",
    "print(city)"
   ]
  },
  {
   "cell_type": "code",
   "execution_count": 64,
   "id": "0030f181",
   "metadata": {},
   "outputs": [
    {
     "name": "stdout",
     "output_type": "stream",
     "text": [
      "Learning python in codinggrad\n"
     ]
    }
   ],
   "source": [
    "#find indexing of substring in main string, if available it will return first position of the substring, if not it will return '-1'.\n",
    "print(s)"
   ]
  },
  {
   "cell_type": "code",
   "execution_count": 65,
   "id": "29d81615",
   "metadata": {},
   "outputs": [
    {
     "name": "stdout",
     "output_type": "stream",
     "text": [
      "9\n"
     ]
    }
   ],
   "source": [
    "print(s.find(\"python\"))"
   ]
  },
  {
   "cell_type": "code",
   "execution_count": 66,
   "id": "cb6558af",
   "metadata": {},
   "outputs": [
    {
     "name": "stdout",
     "output_type": "stream",
     "text": [
      "26\n"
     ]
    }
   ],
   "source": [
    "print(s.find(\"rad\"))"
   ]
  },
  {
   "cell_type": "code",
   "execution_count": 67,
   "id": "1264a1c3",
   "metadata": {},
   "outputs": [
    {
     "name": "stdout",
     "output_type": "stream",
     "text": [
      "-1\n"
     ]
    }
   ],
   "source": [
    "print(s.find(\"java\"))"
   ]
  },
  {
   "cell_type": "code",
   "execution_count": 68,
   "id": "f2472e2c",
   "metadata": {},
   "outputs": [
    {
     "name": "stdout",
     "output_type": "stream",
     "text": [
      "9\n"
     ]
    }
   ],
   "source": [
    "#index : if not available it will give Value error\n",
    "print(s.index(\"python\"))"
   ]
  },
  {
   "cell_type": "code",
   "execution_count": 69,
   "id": "81aaca94",
   "metadata": {},
   "outputs": [
    {
     "ename": "ValueError",
     "evalue": "substring not found",
     "output_type": "error",
     "traceback": [
      "\u001b[1;31m---------------------------------------------------------------------------\u001b[0m",
      "\u001b[1;31mValueError\u001b[0m                                Traceback (most recent call last)",
      "\u001b[1;32m~\\AppData\\Local\\Temp/ipykernel_3092/2861169918.py\u001b[0m in \u001b[0;36m<module>\u001b[1;34m\u001b[0m\n\u001b[1;32m----> 1\u001b[1;33m \u001b[0mprint\u001b[0m\u001b[1;33m(\u001b[0m\u001b[1;33m(\u001b[0m\u001b[0ms\u001b[0m\u001b[1;33m.\u001b[0m\u001b[0mindex\u001b[0m\u001b[1;33m(\u001b[0m\u001b[1;34m\"java\"\u001b[0m\u001b[1;33m)\u001b[0m\u001b[1;33m)\u001b[0m\u001b[1;33m)\u001b[0m\u001b[1;33m\u001b[0m\u001b[1;33m\u001b[0m\u001b[0m\n\u001b[0m",
      "\u001b[1;31mValueError\u001b[0m: substring not found"
     ]
    }
   ],
   "source": [
    "\n",
    "print((s.index(\"java\")))\n"
   ]
  },
  {
   "cell_type": "code",
   "execution_count": 70,
   "id": "8c205b2e",
   "metadata": {},
   "outputs": [
    {
     "name": "stdout",
     "output_type": "stream",
     "text": [
      "java not available\n"
     ]
    }
   ],
   "source": [
    "try:\n",
    "    n=s.index(\"java\")\n",
    "except ValueError:\n",
    "    print(\"java not available\")\n"
   ]
  },
  {
   "cell_type": "code",
   "execution_count": 71,
   "id": "65512416",
   "metadata": {},
   "outputs": [
    {
     "name": "stdout",
     "output_type": "stream",
     "text": [
      "Enter main string: mohan das karamchand gandhi\n",
      "Enter sub string: chand\n",
      "found at position 15\n"
     ]
    }
   ],
   "source": [
    "#find all positions of substrins in string\n",
    "s=input(\"Enter main string: \")\n",
    "sub=input(\"Enter sub string: \")\n",
    "flag=False\n",
    "pos=-1\n",
    "n=len(s)\n",
    "while True:\n",
    "    pos=s.find(sub,pos+1,n)\n",
    "    if pos==-1:\n",
    "        break\n",
    "    print(\"found at position\",pos)\n",
    "    flag=True\n",
    "if flag==False:\n",
    "    print(\"Not found\")"
   ]
  },
  {
   "cell_type": "markdown",
   "id": "6dc038fc",
   "metadata": {},
   "source": [
    "# Task11: Replacing String with another 2 string"
   ]
  },
  {
   "cell_type": "code",
   "execution_count": 72,
   "id": "406e5d4c",
   "metadata": {},
   "outputs": [
    {
     "name": "stdout",
     "output_type": "stream",
     "text": [
      "learning python in codingrad\n",
      "learning java in pythonlife\n"
     ]
    }
   ],
   "source": [
    "s=\"learning python in codingrad\"\n",
    "s1=s.replace('python','java').replace('codingrad','pythonlife')\n",
    "print(s)\n",
    "print(s1)"
   ]
  },
  {
   "cell_type": "markdown",
   "id": "fa4e715f",
   "metadata": {},
   "source": [
    "# Task12: String Practice"
   ]
  },
  {
   "cell_type": "code",
   "execution_count": 73,
   "id": "36279dfb",
   "metadata": {},
   "outputs": [
    {
     "name": "stdout",
     "output_type": "stream",
     "text": [
      "['Learning', 'Python', 'In', 'Codingrad']\n"
     ]
    }
   ],
   "source": [
    "#splitting string \n",
    "s=\"Learning Python In Codingrad\"\n",
    "l=s.split()\n",
    "print(l)"
   ]
  },
  {
   "cell_type": "code",
   "execution_count": 74,
   "id": "43cc76ab",
   "metadata": {},
   "outputs": [
    {
     "name": "stdout",
     "output_type": "stream",
     "text": [
      "Learning Python In Codingrad\n"
     ]
    }
   ],
   "source": [
    "s1=\" \".join(l)\n",
    "print(s1)"
   ]
  },
  {
   "cell_type": "code",
   "execution_count": 75,
   "id": "39160033",
   "metadata": {},
   "outputs": [
    {
     "name": "stdout",
     "output_type": "stream",
     "text": [
      "LEARNING PYTHON IN CODINGRAD\n"
     ]
    }
   ],
   "source": [
    "print(s.upper())"
   ]
  },
  {
   "cell_type": "code",
   "execution_count": 76,
   "id": "df53d2ab",
   "metadata": {},
   "outputs": [
    {
     "name": "stdout",
     "output_type": "stream",
     "text": [
      "learning python in codingrad\n"
     ]
    }
   ],
   "source": [
    "print(s.lower())"
   ]
  },
  {
   "cell_type": "code",
   "execution_count": 77,
   "id": "003b4b14",
   "metadata": {},
   "outputs": [
    {
     "name": "stdout",
     "output_type": "stream",
     "text": [
      "lEARNING pYTHON iN cODINGRAD\n"
     ]
    }
   ],
   "source": [
    "print(s.swapcase())"
   ]
  },
  {
   "cell_type": "code",
   "execution_count": 78,
   "id": "5911a038",
   "metadata": {},
   "outputs": [
    {
     "name": "stdout",
     "output_type": "stream",
     "text": [
      "Learning Python In Codingrad\n"
     ]
    }
   ],
   "source": [
    "print(s.title())"
   ]
  },
  {
   "cell_type": "code",
   "execution_count": 79,
   "id": "2785b7e3",
   "metadata": {},
   "outputs": [
    {
     "name": "stdout",
     "output_type": "stream",
     "text": [
      "Learning python in codingrad\n"
     ]
    }
   ],
   "source": [
    "print(s.capitalize())"
   ]
  },
  {
   "cell_type": "code",
   "execution_count": 80,
   "id": "dc91fbf7",
   "metadata": {},
   "outputs": [
    {
     "name": "stdout",
     "output_type": "stream",
     "text": [
      "True\n"
     ]
    }
   ],
   "source": [
    "print(s.startswith(\"Learning\"))"
   ]
  },
  {
   "cell_type": "code",
   "execution_count": 81,
   "id": "79437357",
   "metadata": {},
   "outputs": [
    {
     "name": "stdout",
     "output_type": "stream",
     "text": [
      "True\n"
     ]
    }
   ],
   "source": [
    "print(s.endswith(\"rad\"))"
   ]
  },
  {
   "cell_type": "code",
   "execution_count": 82,
   "id": "8cbc16ef",
   "metadata": {},
   "outputs": [
    {
     "name": "stdout",
     "output_type": "stream",
     "text": [
      "False\n"
     ]
    }
   ],
   "source": [
    "#type of charecter\n",
    "print(s.isalnum())"
   ]
  },
  {
   "cell_type": "code",
   "execution_count": 83,
   "id": "d4235dc8",
   "metadata": {},
   "outputs": [
    {
     "name": "stdout",
     "output_type": "stream",
     "text": [
      "False\n"
     ]
    }
   ],
   "source": [
    "print(s.isalpha())"
   ]
  },
  {
   "cell_type": "code",
   "execution_count": 84,
   "id": "0284d475",
   "metadata": {},
   "outputs": [
    {
     "name": "stdout",
     "output_type": "stream",
     "text": [
      "False\n"
     ]
    }
   ],
   "source": [
    "print(s.isdigit())"
   ]
  },
  {
   "cell_type": "code",
   "execution_count": 85,
   "id": "80cbcef8",
   "metadata": {},
   "outputs": [
    {
     "name": "stdout",
     "output_type": "stream",
     "text": [
      "True\n"
     ]
    }
   ],
   "source": [
    "print(s.istitle())"
   ]
  },
  {
   "cell_type": "code",
   "execution_count": 87,
   "id": "72114ff7",
   "metadata": {},
   "outputs": [
    {
     "name": "stdout",
     "output_type": "stream",
     "text": [
      "enter string: M\n",
      "IT is Alpha numaric Charecter\n",
      "It is Alphabet\n",
      "It is Uppercase alphabet charecter\n"
     ]
    }
   ],
   "source": [
    "s=input(\"enter string: \")\n",
    "if s.isalnum():\n",
    "    print(\"IT is Alpha numaric Charecter\")\n",
    "    if s.isalpha():\n",
    "        print(\"It is Alphabet\")\n",
    "        if s.isupper():\n",
    "            print(\"It is Uppercase alphabet charecter\")\n",
    "        else:\n",
    "            print(\"It is lowercase alphhabet Charecter\")\n",
    "    else:\n",
    "        print(\"It s digit\")\n",
    "elif s.isspace(): \n",
    "    print(\"it is space Charecter\")\n",
    "else:\n",
    "    print(\"It is special charecter\")"
   ]
  },
  {
   "cell_type": "code",
   "execution_count": 88,
   "id": "379ff190",
   "metadata": {},
   "outputs": [
    {
     "name": "stdout",
     "output_type": "stream",
     "text": [
      "Enter string:mohandas\n",
      "sadnahom\n"
     ]
    }
   ],
   "source": [
    "#wap to reverse order of total string\n",
    "s=input(\"Enter string:\" )\n",
    "for i in range(len(s)):\n",
    "    s2=s[::-1]\n",
    "print(s2)\n"
   ]
  },
  {
   "cell_type": "code",
   "execution_count": 89,
   "id": "81f39dae",
   "metadata": {},
   "outputs": [
    {
     "name": "stdout",
     "output_type": "stream",
     "text": [
      "Enter stringg: mohandas\n",
      "['mohandas']\n",
      "sadnahom\n"
     ]
    }
   ],
   "source": [
    "#wap reverse internal content of each word\n",
    "s=input(\"Enter stringg: \")\n",
    "l=s.split()\n",
    "l1=[]\n",
    "i=0\n",
    "n=len(l)\n",
    "print(l)\n",
    "while i<n:\n",
    "    l2=l[i][::-1]\n",
    "    l1.append(l2)\n",
    "    i+=1\n",
    "    \n",
    "s2=\" \".join(l1)\n",
    "print(s2)"
   ]
  },
  {
   "cell_type": "code",
   "execution_count": 91,
   "id": "4b959635",
   "metadata": {},
   "outputs": [
    {
     "name": "stdout",
     "output_type": "stream",
     "text": [
      "Enter 1st String: mohan\n",
      "Enter 2nd String: kesav\n",
      "mkoehsaanv\n"
     ]
    }
   ],
   "source": [
    "#wap Merge charecters of 2 string into single string\n",
    "s1=input(\"Enter 1st String: \")\n",
    "s2=input(\"Enter 2nd String: \")\n",
    "output=\"\"\n",
    "i,j=0,0\n",
    "while i<len(s1) or j<len(s2):\n",
    "    if i<len(s1):\n",
    "        output=output+s1[i]\n",
    "        i+=1\n",
    "    if j<len(s2):\n",
    "        output=output+s2[j]\n",
    "        j+=1\n",
    "print(output)"
   ]
  },
  {
   "cell_type": "code",
   "execution_count": 92,
   "id": "c9144ef2",
   "metadata": {},
   "outputs": [
    {
     "name": "stdout",
     "output_type": "stream",
     "text": [
      "enter string: bk35k34534kj5345k43\n",
      "bjkkkk3333344445555\n"
     ]
    }
   ],
   "source": [
    "#wap sort charecters of the string and 1st aplphabets followed by numbers\n",
    "s=input(\"enter string: \")\n",
    "s1=\"\"\n",
    "s2=\"\"\n",
    "for i in s:\n",
    "    if i.isalpha():\n",
    "        s1=s1+i\n",
    "    if i.isdigit():\n",
    "        s2=s2+i\n",
    "#print(sorted(s1)+sorted(s2))\n",
    "l=sorted(s1)+sorted(s2)\n",
    "print(\"\".join(l))"
   ]
  },
  {
   "cell_type": "code",
   "execution_count": 93,
   "id": "2391254f",
   "metadata": {},
   "outputs": [
    {
     "name": "stdout",
     "output_type": "stream",
     "text": [
      "Enter string: h3k5k6m87n\n",
      "hhhkkkkkkkkkkkmmmmmmmmmmmmmmn\n"
     ]
    }
   ],
   "source": [
    "#a4b3c2\n",
    "#aaaabbbcc\n",
    "s=input(\"Enter string: \")\n",
    "output=\"\"\n",
    "n=len(s)\n",
    "for x in s:\n",
    "    if x.isalpha():\n",
    "        output=output+x\n",
    "        pre=x\n",
    "    if x.isdigit():\n",
    "        output=output+pre*(int(x)-1)\n",
    "print(output)"
   ]
  },
  {
   "cell_type": "markdown",
   "id": "0c844be2",
   "metadata": {},
   "source": [
    "# Task13&14: Tuple Practice"
   ]
  },
  {
   "cell_type": "markdown",
   "id": "c9ec4e96",
   "metadata": {},
   "source": [
    "Tuple:Tuple exactly same as list except immutability. it is read only mode of list.\n"
   ]
  },
  {
   "cell_type": "code",
   "execution_count": 94,
   "id": "e330daa8",
   "metadata": {},
   "outputs": [
    {
     "name": "stdout",
     "output_type": "stream",
     "text": [
      "<class 'tuple'>\n",
      "<class 'tuple'>\n"
     ]
    }
   ],
   "source": [
    "t=tuple()\n",
    "t1=10,\n",
    "print(type(t))\n",
    "print(type(t1))"
   ]
  },
  {
   "cell_type": "code",
   "execution_count": 95,
   "id": "62deb7c9",
   "metadata": {},
   "outputs": [
    {
     "name": "stdout",
     "output_type": "stream",
     "text": [
      "0\n",
      "0\n"
     ]
    }
   ],
   "source": [
    "t1=10,20,30,40,50\n",
    "t2=(50,60,70,80,90)\n",
    "print(len(t))\n",
    "print(t.count(10))"
   ]
  },
  {
   "cell_type": "code",
   "execution_count": 96,
   "id": "35529f03",
   "metadata": {},
   "outputs": [
    {
     "name": "stdout",
     "output_type": "stream",
     "text": [
      "30\n"
     ]
    }
   ],
   "source": [
    "print(t1[2])"
   ]
  },
  {
   "cell_type": "code",
   "execution_count": 97,
   "id": "881cfe46",
   "metadata": {},
   "outputs": [
    {
     "name": "stdout",
     "output_type": "stream",
     "text": [
      "1\n",
      "3\n"
     ]
    }
   ],
   "source": [
    "print(t1.index(20))\n",
    "print(t1.index(40))"
   ]
  },
  {
   "cell_type": "code",
   "execution_count": 98,
   "id": "8b300f15",
   "metadata": {},
   "outputs": [
    {
     "name": "stdout",
     "output_type": "stream",
     "text": [
      "[]\n"
     ]
    }
   ],
   "source": [
    "print(sorted(t))"
   ]
  },
  {
   "cell_type": "code",
   "execution_count": 99,
   "id": "1c0b6cff",
   "metadata": {},
   "outputs": [
    {
     "name": "stdout",
     "output_type": "stream",
     "text": [
      "(10, 20, 30, 40, 50, 50, 60, 70, 80, 90)\n"
     ]
    }
   ],
   "source": [
    "t3=t1+t2\n",
    "print(t3)"
   ]
  },
  {
   "cell_type": "code",
   "execution_count": 100,
   "id": "9686c650",
   "metadata": {},
   "outputs": [
    {
     "name": "stdout",
     "output_type": "stream",
     "text": [
      "(10, 20, 30, 40, 50, 10, 20, 30, 40, 50, 10, 20, 30, 40, 50)\n"
     ]
    }
   ],
   "source": [
    "t4=t1*3\n",
    "print(t4)"
   ]
  },
  {
   "cell_type": "code",
   "execution_count": 101,
   "id": "d7aa5c94",
   "metadata": {},
   "outputs": [
    {
     "data": {
      "text/plain": [
       "10"
      ]
     },
     "execution_count": 101,
     "metadata": {},
     "output_type": "execute_result"
    }
   ],
   "source": [
    "min(t4)"
   ]
  },
  {
   "cell_type": "code",
   "execution_count": 102,
   "id": "e71e61b0",
   "metadata": {},
   "outputs": [
    {
     "data": {
      "text/plain": [
       "90"
      ]
     },
     "execution_count": 102,
     "metadata": {},
     "output_type": "execute_result"
    }
   ],
   "source": [
    "max(t2)"
   ]
  },
  {
   "cell_type": "code",
   "execution_count": 103,
   "id": "e7aef026",
   "metadata": {},
   "outputs": [
    {
     "name": "stdout",
     "output_type": "stream",
     "text": [
      "Enter Tuple: 10,10,20,30,50,40,60,\n",
      "Sum of tuple 220 \n",
      "average: 31.428571428571427\n"
     ]
    }
   ],
   "source": [
    "#wap print sum and average of tuple\n",
    "t=eval(input(\"Enter Tuple: \"))\n",
    "\n",
    "sum=0\n",
    "for i in t:\n",
    "    sum=sum+i\n",
    "print(\"Sum of tuple\",sum,\"\\naverage:\",sum/len(t))"
   ]
  },
  {
   "cell_type": "markdown",
   "id": "dcd05669",
   "metadata": {},
   "source": [
    "# Task16: Set practice"
   ]
  },
  {
   "cell_type": "markdown",
   "id": "8939e71f",
   "metadata": {},
   "source": [
    "Set: mutable, ordered, no indexing/slicing and  no duplicates allowed in set.{}\n"
   ]
  },
  {
   "cell_type": "code",
   "execution_count": 104,
   "id": "4113ebad",
   "metadata": {},
   "outputs": [
    {
     "name": "stdout",
     "output_type": "stream",
     "text": [
      "{40, 10, 203, 50} {80, 90, 60, 70}\n"
     ]
    }
   ],
   "source": [
    "s=set()\n",
    "l=[10,203,40,50]\n",
    "t=(70,80,90,60)\n",
    "s2=set(l)\n",
    "s3=set(t)\n",
    "print(s2,s3)"
   ]
  },
  {
   "cell_type": "code",
   "execution_count": 105,
   "id": "4384325f",
   "metadata": {},
   "outputs": [
    {
     "data": {
      "text/plain": [
       "{100}"
      ]
     },
     "execution_count": 105,
     "metadata": {},
     "output_type": "execute_result"
    }
   ],
   "source": [
    "s.add(100)\n",
    "s"
   ]
  },
  {
   "cell_type": "code",
   "execution_count": 106,
   "id": "501fb4ba",
   "metadata": {},
   "outputs": [
    {
     "data": {
      "text/plain": [
       "{0, 1, 2, 3, 4, 10, 40, 50, 100, 203}"
      ]
     },
     "execution_count": 106,
     "metadata": {},
     "output_type": "execute_result"
    }
   ],
   "source": [
    "s.update(range(5),l)\n",
    "s"
   ]
  },
  {
   "cell_type": "code",
   "execution_count": 107,
   "id": "562988f5",
   "metadata": {},
   "outputs": [
    {
     "name": "stdout",
     "output_type": "stream",
     "text": [
      "{0, 1, 2, 3, 100, 4, 40, 10, 203, 50}\n"
     ]
    }
   ],
   "source": [
    "s1=s.copy()\n",
    "print(s1)"
   ]
  },
  {
   "cell_type": "code",
   "execution_count": 108,
   "id": "4cdeea7c",
   "metadata": {},
   "outputs": [
    {
     "data": {
      "text/plain": [
       "0"
      ]
     },
     "execution_count": 108,
     "metadata": {},
     "output_type": "execute_result"
    }
   ],
   "source": [
    "s.pop()\n"
   ]
  },
  {
   "cell_type": "code",
   "execution_count": 109,
   "id": "94c7615b",
   "metadata": {},
   "outputs": [
    {
     "data": {
      "text/plain": [
       "1"
      ]
     },
     "execution_count": 109,
     "metadata": {},
     "output_type": "execute_result"
    }
   ],
   "source": [
    "s.pop()"
   ]
  },
  {
   "cell_type": "code",
   "execution_count": 110,
   "id": "dd68a5fc",
   "metadata": {},
   "outputs": [
    {
     "data": {
      "text/plain": [
       "2"
      ]
     },
     "execution_count": 110,
     "metadata": {},
     "output_type": "execute_result"
    }
   ],
   "source": [
    "s.pop()"
   ]
  },
  {
   "cell_type": "code",
   "execution_count": 111,
   "id": "c1c5bd52",
   "metadata": {},
   "outputs": [
    {
     "data": {
      "text/plain": [
       "{3, 4, 10, 40, 50, 100, 203}"
      ]
     },
     "execution_count": 111,
     "metadata": {},
     "output_type": "execute_result"
    }
   ],
   "source": [
    "s\n"
   ]
  },
  {
   "cell_type": "code",
   "execution_count": 112,
   "id": "fdc84faf",
   "metadata": {},
   "outputs": [
    {
     "data": {
      "text/plain": [
       "{3, 4, 10, 40, 50, 100}"
      ]
     },
     "execution_count": 112,
     "metadata": {},
     "output_type": "execute_result"
    }
   ],
   "source": [
    "s.remove(203)\n",
    "s"
   ]
  },
  {
   "cell_type": "code",
   "execution_count": 113,
   "id": "7c548793",
   "metadata": {},
   "outputs": [
    {
     "data": {
      "text/plain": [
       "{3, 4, 10, 40, 50}"
      ]
     },
     "execution_count": 113,
     "metadata": {},
     "output_type": "execute_result"
    }
   ],
   "source": [
    "s.discard(100)\n",
    "s"
   ]
  },
  {
   "cell_type": "code",
   "execution_count": 114,
   "id": "d31476db",
   "metadata": {},
   "outputs": [
    {
     "data": {
      "text/plain": [
       "set()"
      ]
     },
     "execution_count": 114,
     "metadata": {},
     "output_type": "execute_result"
    }
   ],
   "source": [
    "s.clear()\n",
    "s"
   ]
  },
  {
   "cell_type": "code",
   "execution_count": 115,
   "id": "f8a48c5a",
   "metadata": {},
   "outputs": [
    {
     "name": "stdout",
     "output_type": "stream",
     "text": [
      "{100, 70, 40, 10, 80, 50, 20, 90, 60, 30}\n",
      "{100, 70, 40, 10, 80, 50, 20, 90, 60, 30}\n"
     ]
    }
   ],
   "source": [
    "x={10,20,30,40,50}\n",
    "y={40,50,60,70,80,90,100,}\n",
    "print(x.union(y))\n",
    "print(x|y)"
   ]
  },
  {
   "cell_type": "code",
   "execution_count": 116,
   "id": "2845b54f",
   "metadata": {},
   "outputs": [
    {
     "name": "stdout",
     "output_type": "stream",
     "text": [
      "{40, 50}\n",
      "{40, 50}\n"
     ]
    }
   ],
   "source": [
    "print(x.intersection(y))\n",
    "print(x&y)"
   ]
  },
  {
   "cell_type": "code",
   "execution_count": 117,
   "id": "2143918e",
   "metadata": {},
   "outputs": [
    {
     "name": "stdout",
     "output_type": "stream",
     "text": [
      "{10, 20, 30}\n",
      "{10, 20, 30}\n"
     ]
    }
   ],
   "source": [
    "print(x.difference(y))\n",
    "print(x-y)"
   ]
  },
  {
   "cell_type": "code",
   "execution_count": 118,
   "id": "c63d1b68",
   "metadata": {},
   "outputs": [
    {
     "name": "stdout",
     "output_type": "stream",
     "text": [
      "{100, 70, 80, 90, 60}\n",
      "{100, 70, 80, 90, 60}\n"
     ]
    }
   ],
   "source": [
    "print(y.difference(x))\n",
    "print(y-x)"
   ]
  },
  {
   "cell_type": "code",
   "execution_count": 119,
   "id": "002ae70c",
   "metadata": {},
   "outputs": [
    {
     "name": "stdout",
     "output_type": "stream",
     "text": [
      "{100, 70, 10, 80, 20, 90, 60, 30}\n",
      "{100, 70, 10, 80, 20, 90, 60, 30}\n"
     ]
    }
   ],
   "source": [
    "print(x.symmetric_difference(y))\n",
    "\n",
    "print(x^y)"
   ]
  },
  {
   "cell_type": "code",
   "execution_count": 120,
   "id": "300a26ae",
   "metadata": {},
   "outputs": [
    {
     "name": "stdout",
     "output_type": "stream",
     "text": [
      "{'a', 'u', 'r', 'g', 'd'}\n",
      "True\n"
     ]
    }
   ],
   "source": [
    "s=set(\"durga\")\n",
    "print(s)\n",
    "print(\"d\" in s)"
   ]
  },
  {
   "cell_type": "code",
   "execution_count": 121,
   "id": "dd493361",
   "metadata": {},
   "outputs": [
    {
     "name": "stdout",
     "output_type": "stream",
     "text": [
      "Enter string: mississippi\n",
      "{'i'}\n"
     ]
    }
   ],
   "source": [
    "#vowels & words\n",
    "words=input(\"Enter string: \")\n",
    "s=set(words)\n",
    "found=set()\n",
    "v=['a','e','i','o','u']\n",
    "for i in s:\n",
    "    if i in v:\n",
    "        found.add(i)\n",
    "        \n",
    "print(found)"
   ]
  },
  {
   "cell_type": "code",
   "execution_count": 122,
   "id": "44265f67",
   "metadata": {},
   "outputs": [
    {
     "name": "stdout",
     "output_type": "stream",
     "text": [
      "{0, 1, 4, 9, 16} {2, 3, 4, 5, 6}\n"
     ]
    }
   ],
   "source": [
    "#Set comprehension\n",
    "s={x*x for x in range(5)}\n",
    "q={x+2 for x in range(5)}\n",
    "print(s,q)"
   ]
  },
  {
   "cell_type": "markdown",
   "id": "a2af1172",
   "metadata": {},
   "source": [
    "# Task17: Dictonary  Practice"
   ]
  },
  {
   "cell_type": "markdown",
   "id": "2ee9ab69",
   "metadata": {},
   "source": [
    "dictionary: it is  key and value pairs, values can accepts duplicates but keys wont accept duplicates, if you gave duplicate keys then it will override."
   ]
  },
  {
   "cell_type": "code",
   "execution_count": 123,
   "id": "fa70c077",
   "metadata": {},
   "outputs": [
    {
     "data": {
      "text/plain": [
       "dict"
      ]
     },
     "execution_count": 123,
     "metadata": {},
     "output_type": "execute_result"
    }
   ],
   "source": [
    "d={}\n",
    "type(d)"
   ]
  },
  {
   "cell_type": "code",
   "execution_count": 124,
   "id": "5affd7f7",
   "metadata": {},
   "outputs": [
    {
     "data": {
      "text/plain": [
       "{'name': 'mohan'}"
      ]
     },
     "execution_count": 124,
     "metadata": {},
     "output_type": "execute_result"
    }
   ],
   "source": [
    "d['name']=\"mohan\"\n",
    "d"
   ]
  },
  {
   "cell_type": "code",
   "execution_count": 125,
   "id": "f0ed7e5e",
   "metadata": {},
   "outputs": [
    {
     "data": {
      "text/plain": [
       "{'name': 'mohan', 'age': 29}"
      ]
     },
     "execution_count": 125,
     "metadata": {},
     "output_type": "execute_result"
    }
   ],
   "source": [
    "d['age']=29\n",
    "d"
   ]
  },
  {
   "cell_type": "code",
   "execution_count": 126,
   "id": "2776be2c",
   "metadata": {},
   "outputs": [
    {
     "name": "stdout",
     "output_type": "stream",
     "text": [
      "2\n"
     ]
    }
   ],
   "source": [
    "print(len(d))"
   ]
  },
  {
   "cell_type": "code",
   "execution_count": 127,
   "id": "d720583f",
   "metadata": {},
   "outputs": [
    {
     "data": {
      "text/plain": [
       "29"
      ]
     },
     "execution_count": 127,
     "metadata": {},
     "output_type": "execute_result"
    }
   ],
   "source": [
    "d.get('age')"
   ]
  },
  {
   "cell_type": "code",
   "execution_count": 128,
   "id": "a9111b2c",
   "metadata": {},
   "outputs": [
    {
     "name": "stdout",
     "output_type": "stream",
     "text": [
      "chennai\n"
     ]
    }
   ],
   "source": [
    "print(d.get('add','chennai'))"
   ]
  },
  {
   "cell_type": "code",
   "execution_count": 129,
   "id": "745d1a04",
   "metadata": {},
   "outputs": [
    {
     "data": {
      "text/plain": [
       "('age', 29)"
      ]
     },
     "execution_count": 129,
     "metadata": {},
     "output_type": "execute_result"
    }
   ],
   "source": [
    "d.popitem()"
   ]
  },
  {
   "cell_type": "code",
   "execution_count": 130,
   "id": "dea80770",
   "metadata": {},
   "outputs": [
    {
     "data": {
      "text/plain": [
       "{'name': 'mohan'}"
      ]
     },
     "execution_count": 130,
     "metadata": {},
     "output_type": "execute_result"
    }
   ],
   "source": [
    "d"
   ]
  },
  {
   "cell_type": "code",
   "execution_count": 131,
   "id": "895f471c",
   "metadata": {},
   "outputs": [
    {
     "data": {
      "text/plain": [
       "dict_keys(['name'])"
      ]
     },
     "execution_count": 131,
     "metadata": {},
     "output_type": "execute_result"
    }
   ],
   "source": [
    "d.keys()"
   ]
  },
  {
   "cell_type": "code",
   "execution_count": 132,
   "id": "5c4f2ef8",
   "metadata": {},
   "outputs": [
    {
     "data": {
      "text/plain": [
       "dict_values(['mohan'])"
      ]
     },
     "execution_count": 132,
     "metadata": {},
     "output_type": "execute_result"
    }
   ],
   "source": [
    "d.values()\n"
   ]
  },
  {
   "cell_type": "code",
   "execution_count": 133,
   "id": "b0a2fa75",
   "metadata": {},
   "outputs": [
    {
     "name": "stdout",
     "output_type": "stream",
     "text": [
      "name mohan\n"
     ]
    }
   ],
   "source": [
    "for i,j in d.items():\n",
    "    print(i,j)"
   ]
  },
  {
   "cell_type": "code",
   "execution_count": 134,
   "id": "960f26ed",
   "metadata": {},
   "outputs": [
    {
     "data": {
      "text/plain": [
       "{'devudu': 'ramudu'}"
      ]
     },
     "execution_count": 134,
     "metadata": {},
     "output_type": "execute_result"
    }
   ],
   "source": [
    "d1={'devudu':'ramudu'}\n",
    "d1"
   ]
  },
  {
   "cell_type": "code",
   "execution_count": 135,
   "id": "839aca7c",
   "metadata": {},
   "outputs": [
    {
     "data": {
      "text/plain": [
       "{'name': 'mohan'}"
      ]
     },
     "execution_count": 135,
     "metadata": {},
     "output_type": "execute_result"
    }
   ],
   "source": [
    "d.setdefault('name','mohan')\n",
    "d"
   ]
  },
  {
   "cell_type": "code",
   "execution_count": 136,
   "id": "dbfcbfdb",
   "metadata": {},
   "outputs": [
    {
     "data": {
      "text/plain": [
       "{'name': 'mohan', 'address': 'chennai'}"
      ]
     },
     "execution_count": 136,
     "metadata": {},
     "output_type": "execute_result"
    }
   ],
   "source": [
    "d.setdefault(\"address\",\"chennai\")\n",
    "d"
   ]
  },
  {
   "cell_type": "code",
   "execution_count": 137,
   "id": "f36f1ee5",
   "metadata": {},
   "outputs": [
    {
     "data": {
      "text/plain": [
       "{'name': 'mohan', 'address': 'chennai', 'devudu': 'ramudu'}"
      ]
     },
     "execution_count": 137,
     "metadata": {},
     "output_type": "execute_result"
    }
   ],
   "source": [
    "d.update(d1)\n",
    "d"
   ]
  },
  {
   "cell_type": "code",
   "execution_count": 138,
   "id": "453a4584",
   "metadata": {},
   "outputs": [
    {
     "name": "stdout",
     "output_type": "stream",
     "text": [
      "sum of dictionary is:  600\n"
     ]
    }
   ],
   "source": [
    "#d=eval(input(\"Enter Dictinary: \"))\n",
    "d={'a':100,'b':200,'c':300}\n",
    "\n",
    "v=d.values()\n",
    "\n",
    "sum=0\n",
    "for i,j in d.items():\n",
    "    sum=sum+j\n",
    "print(\"sum of dictionary is: \",sum)"
   ]
  },
  {
   "cell_type": "code",
   "execution_count": 140,
   "id": "967bd6d1",
   "metadata": {},
   "outputs": [
    {
     "name": "stdout",
     "output_type": "stream",
     "text": [
      "Enter no.of Students Value:3\n",
      "Enter student name:mohan\n",
      "Enter marks: 65\n",
      "Enter student name:kesav\n",
      "Enter marks: 78\n",
      "Enter student name:ashok\n",
      "Enter marks: 75\n",
      "----------------------------------------\n",
      "\tname\t\t\tmarks\n",
      "----------------------------------------\n",
      "\t mohan     \t\t 65\n",
      "\t kesav     \t\t 78\n",
      "\t ashok     \t\t 75\n",
      "----------------------------------------\n"
     ]
    }
   ],
   "source": [
    "#student name & marks accepting from keyboard and display it.\n",
    "n=int(input(\"Enter no.of Students Value:\"))\n",
    "d=dict()\n",
    "for i in range(n):\n",
    "    name=input(\"Enter student name:\")\n",
    "    marks=int(input(\"Enter marks: \"))\n",
    "    d[name]=marks\n",
    "print(\"----------------------------------------\\n\\tname\\t\\t\\tmarks\\n----------------------------------------\")\n",
    "for i,j in d.items():\n",
    "    print(\"\\t\",i,\" \"*3,\"\\t\\t\",j)\n",
    "print(\"----------------------------------------\")"
   ]
  },
  {
   "cell_type": "code",
   "execution_count": 142,
   "id": "3bac22d2",
   "metadata": {},
   "outputs": [
    {
     "name": "stdout",
     "output_type": "stream",
     "text": [
      "Enter string: mississippi\n",
      "letter m occurence in 1 times\n",
      "letter i occurence in 4 times\n",
      "letter s occurence in 4 times\n",
      "letter p occurence in 2 times\n"
     ]
    }
   ],
   "source": [
    "# No.of occurence present in string\n",
    "\n",
    "s=input(\"Enter string: \")\n",
    "d={}\n",
    "for x in s:\n",
    "    d[x]=d.get(x,0)+1\n",
    "for i,j in d.items():\n",
    "    print( \"letter\",i,\"occurence in\",j,\"times\")\n",
    "    "
   ]
  },
  {
   "cell_type": "code",
   "execution_count": 143,
   "id": "21bf7534",
   "metadata": {},
   "outputs": [
    {
     "name": "stdout",
     "output_type": "stream",
     "text": [
      "Enter word:mohandaskaramchandgandhi\n",
      "vowel o present in 1 times\n",
      "vowel a present in 6 times\n",
      "vowel i present in 1 times\n"
     ]
    }
   ],
   "source": [
    "#word & vowel\n",
    "word=input(\"Enter word:\")\n",
    "v={'a','e','i','o','u'}\n",
    "d={}\n",
    "for x in word:\n",
    "    if x in v:\n",
    "        d[x]=d.get(x,0)+1\n",
    "for i,j in d.items():\n",
    "    print(\"vowel\",i,\"present in\",j,\"times\")"
   ]
  },
  {
   "cell_type": "code",
   "execution_count": 162,
   "id": "51c40c8b",
   "metadata": {},
   "outputs": [
    {
     "name": "stdout",
     "output_type": "stream",
     "text": [
      "Enter no.of Students:3\n",
      "Enter student name:kesav\n",
      "Enter marks: 86\n",
      "Enter student name:mohan\n",
      "Enter marks: 65\n",
      "Enter student name:ashok\n",
      "Enter marks: 89\n",
      "Enter student name to know marks: ashok\n",
      "-----------------------------------------------------\n",
      " ashok Marks  is :  89 \n",
      "-----------------------------------------------------\n",
      "If you want to know another student marks Yes|No:yes\n",
      "Enter student name to know marks: mohan\n",
      "-----------------------------------------------------\n",
      " mohan Marks  is :  65 \n",
      "-----------------------------------------------------\n",
      "If you want to know another student marks Yes|No:yes\n",
      "Enter student name to know marks: kesav\n",
      "-----------------------------------------------------\n",
      " kesav Marks  is :  86 \n",
      "-----------------------------------------------------\n",
      "If you want to know another student marks Yes|No:yes\n",
      "Enter student name to know marks: mohan\n",
      "-----------------------------------------------------\n",
      " mohan Marks  is :  65 \n",
      "-----------------------------------------------------\n",
      "If you want to know another student marks Yes|No:no\n",
      "\n",
      "-------thanks for using application---------\n"
     ]
    }
   ],
   "source": [
    "#Create A dictionary with name & marks and display marks by taking input from keyboard\n",
    "\n",
    "n=int(input(\"Enter no.of Students:\"))\n",
    "d={}\n",
    "for i in range(n):\n",
    "    name=input(\"Enter student name:\")\n",
    "    marks=int(input(\"Enter marks: \"))\n",
    "    d[name]=marks\n",
    "while True:\n",
    "    name=input(\"Enter student name to know marks: \")\n",
    "    marks=d.get(name,-1)\n",
    "    if marks==-1:\n",
    "        print(\"Student not found!!!\")\n",
    "    else:\n",
    "        print(\"-----------------------------------------------------\\n\",name,\"Marks  is : \",marks,\"\\n-----------------------------------------------------\")\n",
    "    option=input(\"If you want to know another student marks Yes|No:\")\n",
    "    if option==\"no\":\n",
    "        break\n",
    "        \n",
    "print(\"\\n-------thanks for using application---------\")"
   ]
  },
  {
   "cell_type": "code",
   "execution_count": 145,
   "id": "6cfc04d1",
   "metadata": {},
   "outputs": [
    {
     "name": "stdout",
     "output_type": "stream",
     "text": [
      "{0: 0, 1: 1, 2: 4, 3: 9, 4: 16}\n",
      "{0: 0, 1: 2, 2: 4, 3: 6, 4: 8}\n",
      "{0: 1, 1: 1, 2: 4, 3: 27, 4: 256}\n"
     ]
    }
   ],
   "source": [
    "#Dictionary Comprehension\n",
    "d={x:x*x for x in range(5)}\n",
    "e={x:x*2 for x in range(5)}\n",
    "f={x:x**x for x in range(5)}\n",
    "print(d)\n",
    "print(e)\n",
    "print(f)"
   ]
  },
  {
   "cell_type": "markdown",
   "id": "62d8dd93",
   "metadata": {},
   "source": [
    "# Task18: Functions"
   ]
  },
  {
   "cell_type": "markdown",
   "id": "3a8262cf",
   "metadata": {},
   "source": [
    "Functions:it is a collection of statements to form s buseness logic is called function. the main advantage of function is code reusability"
   ]
  },
  {
   "cell_type": "code",
   "execution_count": 146,
   "id": "b8502e09",
   "metadata": {},
   "outputs": [
    {
     "data": {
      "text/plain": [
       "'Hi how are you.'"
      ]
     },
     "execution_count": 146,
     "metadata": {},
     "output_type": "execute_result"
    }
   ],
   "source": [
    "def wish(name):\n",
    "    return \"Hi how are you.\"\n",
    "wish(\"kesav\")"
   ]
  },
  {
   "cell_type": "code",
   "execution_count": 147,
   "id": "2269a12d",
   "metadata": {},
   "outputs": [],
   "source": [
    "def prime_number(n):\n",
    "    if n<=1:\n",
    "        result=1\n",
    "    else:\n",
    "        for i in range(2,n):\n",
    "            if i==2 or i==3:\n",
    "                print(\"it is prime number\",i)\n",
    "            elif i%2==0 or i%3==0:\n",
    "                print(\"It is not prime\",i)\n",
    "            else:\n",
    "                print(\"It is prime Number:\",i)"
   ]
  },
  {
   "cell_type": "code",
   "execution_count": 148,
   "id": "9250c996",
   "metadata": {},
   "outputs": [
    {
     "name": "stdout",
     "output_type": "stream",
     "text": [
      "it is prime number 2\n",
      "it is prime number 3\n",
      "It is not prime 4\n",
      "It is prime Number: 5\n",
      "It is not prime 6\n",
      "It is prime Number: 7\n",
      "It is not prime 8\n",
      "It is not prime 9\n"
     ]
    }
   ],
   "source": [
    "prime_number(10)"
   ]
  },
  {
   "cell_type": "code",
   "execution_count": 149,
   "id": "1eea3c80",
   "metadata": {},
   "outputs": [
    {
     "name": "stdout",
     "output_type": "stream",
     "text": [
      "Number is even:\n",
      "Number is odd\n"
     ]
    }
   ],
   "source": [
    "def even_odd(n):\n",
    "    if n%2==0:\n",
    "        print(\"Number is even:\")\n",
    "    else:\n",
    "        print(\"Number is odd\")\n",
    "        \n",
    "even_odd(150)\n",
    "even_odd(15)"
   ]
  },
  {
   "cell_type": "code",
   "execution_count": 150,
   "id": "d90dea1b",
   "metadata": {},
   "outputs": [
    {
     "data": {
      "text/plain": [
       "120"
      ]
     },
     "execution_count": 150,
     "metadata": {},
     "output_type": "execute_result"
    }
   ],
   "source": [
    "def factl(n):\n",
    "    result=1\n",
    "    while n>1:\n",
    "        result=result*n\n",
    "        n=n-1\n",
    "    return result\n",
    "factl(5)"
   ]
  },
  {
   "cell_type": "code",
   "execution_count": 151,
   "id": "3469745e",
   "metadata": {},
   "outputs": [
    {
     "data": {
      "text/plain": [
       "3628800"
      ]
     },
     "execution_count": 151,
     "metadata": {},
     "output_type": "execute_result"
    }
   ],
   "source": [
    "def fact(n):\n",
    "    result=1\n",
    "    while n>1:\n",
    "        result=result*n\n",
    "        n=n-1\n",
    "    return result\n",
    "fact(10)"
   ]
  },
  {
   "cell_type": "code",
   "execution_count": 152,
   "id": "0e819cc4",
   "metadata": {},
   "outputs": [
    {
     "data": {
      "text/plain": [
       "120"
      ]
     },
     "execution_count": 152,
     "metadata": {},
     "output_type": "execute_result"
    }
   ],
   "source": [
    "fact(5)"
   ]
  },
  {
   "cell_type": "code",
   "execution_count": 168,
   "id": "73cd9bf9",
   "metadata": {},
   "outputs": [
    {
     "name": "stdout",
     "output_type": "stream",
     "text": [
      "hi mohan good morning\n"
     ]
    }
   ],
   "source": [
    "# typs of orguments\n",
    "# 1.positional orguments\n",
    "def wish(name,msg):\n",
    "    print(\"hi\",name,msg)\n",
    "wish('mohan','good morning')"
   ]
  },
  {
   "cell_type": "code",
   "execution_count": 169,
   "id": "566b88b1",
   "metadata": {},
   "outputs": [
    {
     "name": "stdout",
     "output_type": "stream",
     "text": [
      "hi mohan goog morning\n",
      "hi mohan good morning\n"
     ]
    }
   ],
   "source": [
    "#2.keyword orguments\n",
    "wish(name='mohan',msg='goog morning')\n",
    "wish('mohan',msg='good morning')"
   ]
  },
  {
   "cell_type": "code",
   "execution_count": 170,
   "id": "f16e9333",
   "metadata": {},
   "outputs": [
    {
     "name": "stdout",
     "output_type": "stream",
     "text": [
      "hi mohan good morning\n"
     ]
    }
   ],
   "source": [
    "wish('mohan',msg='good morning')"
   ]
  },
  {
   "cell_type": "code",
   "execution_count": 156,
   "id": "047791d8",
   "metadata": {},
   "outputs": [
    {
     "name": "stdout",
     "output_type": "stream",
     "text": [
      "hi  goodmorning das\n",
      "hi  mohan goodnnight\n"
     ]
    }
   ],
   "source": [
    "# 3. default orguments\n",
    "def wish(msg,name='das'):\n",
    "    print(\"hi \",msg,name)\n",
    "wish('goodmorning')\n",
    "wish('mohan','goodnnight')"
   ]
  },
  {
   "cell_type": "code",
   "execution_count": null,
   "id": "758ba9fa",
   "metadata": {},
   "outputs": [],
   "source": [
    "def cal(*n):\n",
    "    sum=0\n",
    "    for n1 in n:\n",
    "        sum=sum+n1\n",
    "    print(\"Sum of \",*n,\"Values\",sum)\n",
    "    return *n,"
   ]
  },
  {
   "cell_type": "code",
   "execution_count": null,
   "id": "98814863",
   "metadata": {},
   "outputs": [],
   "source": [
    "cal(10,20,30,40)"
   ]
  },
  {
   "cell_type": "markdown",
   "id": "0951c631",
   "metadata": {},
   "source": [
    "# Task18: ATM Program "
   ]
  },
  {
   "cell_type": "code",
   "execution_count": 167,
   "id": "a11a390f",
   "metadata": {},
   "outputs": [
    {
     "name": "stdout",
     "output_type": "stream",
     "text": [
      "\n",
      " ******************************************* \n",
      " ---------- WELCOME TO HDFC BANK ---------- \n",
      " *******************************************\n",
      "Enter PIN:1234\n",
      "\n",
      "1.Diposite\n",
      "2.Withdrawl\n",
      "3.Balance\n",
      " Please Choose Your your option 1 or 2 or 3:3\n",
      "\n",
      " ----------------------------------------- \n",
      "\tBalance in your account 2000 \n",
      " -----------------------------------------\n",
      "If you want to do another transection YES|NO:yes\n",
      "\n",
      "1.Diposite\n",
      "2.Withdrawl\n",
      "3.Balance\n",
      " Please Choose Your your option 1 or 2 or 3:1\n",
      "please Enter your Diposite amount:1000\n",
      "\n",
      " ----------------------------------------- \n",
      "After diposite Balance in your account 3000 \n",
      " -----------------------------------------\n",
      "If you want to do another transection YES|NO:yes\n",
      "\n",
      "1.Diposite\n",
      "2.Withdrawl\n",
      "3.Balance\n",
      " Please Choose Your your option 1 or 2 or 3:2\n",
      "please Enter your Withdrawl amount:1000\n",
      "\n",
      " ----------------------------------------- \n",
      "After withdrawl Balance in your account 1000 \n",
      " -----------------------------------------\n",
      "If you want to do another transection YES|NO:no\n",
      "-----------------------------------------\n",
      "************* THAKS FOR BANKING *************\n",
      "************* HAVE A GRATE DAY *************\n",
      "-----------------------------------------\n"
     ]
    }
   ],
   "source": [
    "def diposite(amount):\n",
    "    credit=balance+amount\n",
    "    print(\"\\n\",\"-\"*41,\"\\nAfter diposite Balance in your account\",credit,\"\\n\",\"-\"*41)\n",
    "    \n",
    "def withdrawl(amount):\n",
    "    debit=balance-amount\n",
    "    print(\"\\n\",\"-\"*41,\"\\nAfter withdrawl Balance in your account\",debit,\"\\n\",\"-\"*41)\n",
    "    \n",
    "def Rs():\n",
    "    print(\"\\n\",\"-\"*41,\"\\n\\tBalance in your account\",balance,\"\\n\",\"-\"*41)  \n",
    "    \n",
    "    \n",
    "print(\"\\n\",\"*\"*43,\"\\n\",\"-\"*10,\"WELCOME TO HDFC BANK\",\"-\"*10,\"\\n\",\"*\"*43)\n",
    "\n",
    "PIN=input(\"Enter PIN:\")\n",
    "if PIN=='1234':\n",
    "    while True:\n",
    "        #balance=2000\n",
    "        print(\"\\n1.Diposite\\n2.Withdrawl\\n3.Balance\")\n",
    "        option=int(input(\" Please Choose Your your option 1 or 2 or 3:\"))\n",
    "        if option==1:\n",
    "            amount=int(input(\"please Enter your Diposite amount:\"))\n",
    "            #balance=balance+amount\n",
    "            diposite(amount)\n",
    "        elif option==2:\n",
    "            amount=int(input(\"please Enter your Withdrawl amount:\"))\n",
    "            if balance>=amount:\n",
    "                #balance=balance+amount\n",
    "                withdrawl(amount)\n",
    "            else:\n",
    "                print(\"INSUFFICIENT FUNDS\")\n",
    "                break\n",
    "        elif option==3:\n",
    "            Rs()\n",
    "        else:\n",
    "            print(\"YOU CHOOSEN WRONG OPTION,PLEASE GET WRIGHT OPTION:\")\n",
    "        choice=input(\"If you want to do another transection YES|NO:\")\n",
    "        if choice==\"no\":\n",
    "            break\n",
    "    \n",
    "    print(\"-\"*41)\n",
    "    print(\"*\"*13,\"THAKS FOR BANKING\",\"*\"*13)\n",
    "    print(\"*\"*13,\"HAVE A GRATE DAY\",\"*\"*13)\n",
    "    print(\"-\"*41)\n",
    "else:\n",
    "    print(\"WRONG PIN\")\n",
    "    "
   ]
  },
  {
   "cell_type": "code",
   "execution_count": null,
   "id": "7e285d0f",
   "metadata": {},
   "outputs": [],
   "source": [
    "#infinity loop\n",
    "name=\"\"\n",
    "while name!=\"mohan\":\n",
    "    name=input(\"Enter name:\")\n",
    "    print(\"thanks\")\n",
    "    "
   ]
  },
  {
   "cell_type": "markdown",
   "id": "d4b73bb5",
   "metadata": {},
   "source": [
    "# Task 19: File handling Read & write"
   ]
  },
  {
   "cell_type": "code",
   "execution_count": 171,
   "id": "2361de3f",
   "metadata": {},
   "outputs": [
    {
     "name": "stdout",
     "output_type": "stream",
     "text": [
      "\n"
     ]
    }
   ],
   "source": [
    "#read\n",
    "f=open(\"D:\\\\python\\\\Data Science\\\\working_directory\\\\Desktop\\\\filehandling.txt\",'r')\n",
    "openit=f.read()\n",
    "print(openit)\n",
    "f.close()"
   ]
  },
  {
   "cell_type": "code",
   "execution_count": 172,
   "id": "03f35668",
   "metadata": {},
   "outputs": [
    {
     "name": "stdout",
     "output_type": "stream",
     "text": [
      "196\n",
      "this is textline\n",
      "this is mohan\n",
      "worked as medical coder\n",
      "now i am learning py thon in codingrad\n",
      "codingrad is verygood for learning python\n",
      "here teaching is nice \n",
      "  ilike somuch\n",
      "**********************\n"
     ]
    }
   ],
   "source": [
    "#write&read\n",
    "f=open(\"D:\\\\python\\\\Data Science\\\\working_directory\\\\Desktop\\\\filehandling.txt\",'w')\n",
    "writeit=f.write('this is textline\\nthis is mohan\\nworked as medical coder\\nnow i am learning py thon in codingrad\\ncodingrad is verygood for learning python\\nhere teaching is nice \\n  ilike somuch\\n**********************')\n",
    "print(writeit)\n",
    "f.close()\n",
    "f=open(\"D:\\\\python\\\\Data Science\\\\working_directory\\\\Desktop\\\\filehandling.txt\",'r')\n",
    "readit=f.read()\n",
    "print(readit)\n",
    "f.close()"
   ]
  },
  {
   "cell_type": "code",
   "execution_count": 173,
   "id": "baa0352a",
   "metadata": {},
   "outputs": [
    {
     "name": "stdout",
     "output_type": "stream",
     "text": [
      "14\n",
      "This is mohanThis is mohanThis is mohan\n",
      "This is mohan\n",
      "This is mohan\n",
      "This is mohan\n"
     ]
    }
   ],
   "source": [
    "#append\n",
    "f=open(\"D:\\\\python\\\\Data Science\\\\working_directory\\\\Desktop\\\\sample.slsx\",'a')\n",
    "addit=f.write(\"\\nThis is mohan\")\n",
    "print(addit)\n",
    "f.close()\n",
    "f=open(\"D:\\\\python\\\\Data Science\\\\working_directory\\\\Desktop\\\\sample.slsx\",'r')\n",
    "readit=f.read()\n",
    "print(readit)\n",
    "f.close()"
   ]
  },
  {
   "cell_type": "markdown",
   "id": "5ff57284",
   "metadata": {},
   "source": [
    "# Task20: Readlines,writelines"
   ]
  },
  {
   "cell_type": "code",
   "execution_count": 174,
   "id": "e1a30c31",
   "metadata": {},
   "outputs": [],
   "source": [
    "#readline to read single line \n"
   ]
  },
  {
   "cell_type": "code",
   "execution_count": 175,
   "id": "df1c5d51",
   "metadata": {},
   "outputs": [
    {
     "name": "stdout",
     "output_type": "stream",
     "text": [
      "this is textline\n",
      "\n",
      "this is mohan\n",
      "\n",
      "worked as medical coder\n",
      "\n",
      "now i am learning py thon in codingrad\n",
      "\n",
      "codingrad is verygood for learning python\n",
      "\n",
      "here teaching is nice \n",
      "\n",
      "  ilike somuch\n",
      "\n",
      "**********************\n"
     ]
    }
   ],
   "source": [
    "#readlines: to read muliple lines\n",
    "#list1=[\"sunny\\n\",\"bunny\\n\",\"vinny\\n\",\"chinny\"]\n",
    "f=open(\"D:\\\\python\\\\Data Science\\\\working_directory\\\\Desktop\\\\filehandling.txt\",'r')\n",
    "readit=f.readlines()\n",
    "for i in readit:\n",
    "    print(i)\n",
    "f.close()"
   ]
  },
  {
   "cell_type": "code",
   "execution_count": 176,
   "id": "a708c056",
   "metadata": {},
   "outputs": [
    {
     "name": "stdout",
     "output_type": "stream",
     "text": [
      "this is textline\n",
      "\n",
      "this is mohan\n",
      "\n",
      "worked as medical coder\n",
      "\n",
      "now i am learning py thon in codingrad\n",
      "\n",
      "codingrad is verygood for learning python\n",
      "\n",
      "here teaching is nice \n",
      "\n",
      "  ilike somuch\n",
      "\n",
      "**********************\n"
     ]
    }
   ],
   "source": [
    "#readlines\n",
    "f=open(\"D:\\\\python\\\\Data Science\\\\working_directory\\\\Desktop\\\\filehandling.txt\",'r')\n",
    "content=f.readlines()\n",
    "for i in content:\n",
    "    print(i)\n",
    "f.close()"
   ]
  },
  {
   "cell_type": "code",
   "execution_count": 177,
   "id": "977ef4b1",
   "metadata": {},
   "outputs": [
    {
     "name": "stdout",
     "output_type": "stream",
     "text": [
      "0\n"
     ]
    }
   ],
   "source": [
    "#tell\n",
    "f=open(\"D:\\\\python\\\\Data Science\\\\working_directory\\\\Desktop\\\\filehandling.txt\",'r')\n",
    "print(f.tell())\n",
    "f.close()"
   ]
  },
  {
   "cell_type": "code",
   "execution_count": 180,
   "id": "b49981f6",
   "metadata": {},
   "outputs": [],
   "source": [
    "f=open(\"D:\\\\python\\\\Data Science\\\\working_directory\\\\Desktop\\\\filehandling.txt\",'r')\n",
    "f.read(10)\n",
    "f.close()"
   ]
  },
  {
   "cell_type": "code",
   "execution_count": 181,
   "id": "ee5467c2",
   "metadata": {},
   "outputs": [
    {
     "name": "stdout",
     "output_type": "stream",
     "text": [
      "this is textline\n",
      "this is mohan\n",
      "worked as medical coder\n",
      "now i am learning py thon in codingrad\n",
      "codingrad is verygood for learning python\n",
      "here teaching is nice \n",
      "  ilike somuch\n",
      "**********************\n",
      "203\n",
      "50\n",
      "50\n"
     ]
    }
   ],
   "source": [
    "#seek to change the position of curser\n",
    "f=open(\"D:\\\\python\\\\Data Science\\\\working_directory\\\\Desktop\\\\filehandling.txt\",'r')\n",
    "readit=(f.read())\n",
    "print(readit)\n",
    "print(f.tell())\n",
    "print(f.seek(50))\n",
    "print(f.tell())\n",
    "f.close()"
   ]
  },
  {
   "cell_type": "markdown",
   "id": "47f85e67",
   "metadata": {},
   "source": [
    "# Task21: OS module"
   ]
  },
  {
   "cell_type": "code",
   "execution_count": 182,
   "id": "8396b077",
   "metadata": {},
   "outputs": [
    {
     "data": {
      "text/plain": [
       "'C:\\\\Users\\\\Dell'"
      ]
     },
     "execution_count": 182,
     "metadata": {},
     "output_type": "execute_result"
    }
   ],
   "source": [
    "import os\n",
    "#to  know current working directory\n",
    "os.getcwd()"
   ]
  },
  {
   "cell_type": "code",
   "execution_count": 183,
   "id": "6011fb93",
   "metadata": {},
   "outputs": [
    {
     "name": "stdout",
     "output_type": "stream",
     "text": [
      "Taks completed\n"
     ]
    }
   ],
   "source": [
    "import os \n",
    "#to create subdirectory in cwd\n",
    "os.mkdir(\"datasciencedir\")\n",
    "print(\"Taks completed\")"
   ]
  },
  {
   "cell_type": "code",
   "execution_count": 184,
   "id": "2882c9e2",
   "metadata": {},
   "outputs": [
    {
     "name": "stdout",
     "output_type": "stream",
     "text": [
      "Task completed\n"
     ]
    }
   ],
   "source": [
    "import os\n",
    "# To create a sub directory in datasciencedir\n",
    "os.mkdir(\"datasciencedir/python\")\n",
    "print(\"Task completed\")"
   ]
  },
  {
   "cell_type": "code",
   "execution_count": 185,
   "id": "29b796d4",
   "metadata": {},
   "outputs": [
    {
     "name": "stdout",
     "output_type": "stream",
     "text": [
      "Task completed\n"
     ]
    }
   ],
   "source": [
    "import os\n",
    "# To create multiple directories \n",
    "os.makedirs('python/numpy/pandas')\n",
    "print(\"Task completed\")"
   ]
  },
  {
   "cell_type": "code",
   "execution_count": 186,
   "id": "8eabc6cd",
   "metadata": {},
   "outputs": [
    {
     "name": "stdout",
     "output_type": "stream",
     "text": [
      "Task completed\n"
     ]
    }
   ],
   "source": [
    "import os \n",
    "# To remove a direcory\n",
    "os.rmdir(\"datasciencedir/python\")\n",
    "print(\"Task completed\")"
   ]
  },
  {
   "cell_type": "code",
   "execution_count": 187,
   "id": "19111648",
   "metadata": {},
   "outputs": [
    {
     "name": "stdout",
     "output_type": "stream",
     "text": [
      "Task completd\n"
     ]
    }
   ],
   "source": [
    "import os\n",
    "os.removedirs(\"python/numpy/pandas\")\n",
    "print(\"Task completd\")"
   ]
  },
  {
   "cell_type": "code",
   "execution_count": 207,
   "id": "d0246844",
   "metadata": {},
   "outputs": [
    {
     "name": "stdout",
     "output_type": "stream",
     "text": [
      "Task completed\n"
     ]
    }
   ],
   "source": [
    "import os \n",
    "os.rename('ds',\"swami\")\n",
    "print(\"Task completed\")"
   ]
  },
  {
   "cell_type": "code",
   "execution_count": 189,
   "id": "ae285fb6",
   "metadata": {},
   "outputs": [
    {
     "name": "stdout",
     "output_type": "stream",
     "text": [
      "['extensions', 'nbextensions', 'profile_default']\n",
      "Taskcompleted\n"
     ]
    }
   ],
   "source": [
    "import os\n",
    "print(os.listdir('.ipython'))\n",
    "print(\"Taskcompleted\")"
   ]
  },
  {
   "cell_type": "code",
   "execution_count": 190,
   "id": "33ca487c",
   "metadata": {},
   "outputs": [
    {
     "name": "stdout",
     "output_type": "stream",
     "text": [
      "Current directory path: .ipython\n",
      "\n",
      "Directories ['extensions', 'nbextensions', 'profile_default']\n",
      "\n",
      "filenames []\n",
      "\n",
      "\n",
      "Current directory path: .ipython\\extensions\n",
      "\n",
      "Directories []\n",
      "\n",
      "filenames []\n",
      "\n",
      "\n",
      "Current directory path: .ipython\\nbextensions\n",
      "\n",
      "Directories []\n",
      "\n",
      "filenames []\n",
      "\n",
      "\n",
      "Current directory path: .ipython\\profile_default\n",
      "\n",
      "Directories ['db', 'log', 'pid', 'security', 'startup']\n",
      "\n",
      "filenames ['history.sqlite', 'history.sqlite-journal']\n",
      "\n",
      "\n",
      "Current directory path: .ipython\\profile_default\\db\n",
      "\n",
      "Directories []\n",
      "\n",
      "filenames []\n",
      "\n",
      "\n",
      "Current directory path: .ipython\\profile_default\\log\n",
      "\n",
      "Directories []\n",
      "\n",
      "filenames []\n",
      "\n",
      "\n",
      "Current directory path: .ipython\\profile_default\\pid\n",
      "\n",
      "Directories []\n",
      "\n",
      "filenames []\n",
      "\n",
      "\n",
      "Current directory path: .ipython\\profile_default\\security\n",
      "\n",
      "Directories []\n",
      "\n",
      "filenames []\n",
      "\n",
      "\n",
      "Current directory path: .ipython\\profile_default\\startup\n",
      "\n",
      "Directories []\n",
      "\n",
      "filenames ['README']\n",
      "\n",
      "\n"
     ]
    }
   ],
   "source": [
    "import os\n",
    "for dirpath,dirnames,filenames in os.walk(\".ipython\"):\n",
    "    print(\"Current directory path:\",dirpath)\n",
    "    print()\n",
    "    print(\"Directories\",dirnames)\n",
    "    print()\n",
    "    print(\"filenames\",filenames)\n",
    "    print()\n",
    "    print()"
   ]
  },
  {
   "cell_type": "markdown",
   "id": "8788a76c",
   "metadata": {},
   "source": [
    "# Task22: Exceptional Handling:\n",
    "        "
   ]
  },
  {
   "cell_type": "markdown",
   "id": "3e740851",
   "metadata": {},
   "source": [
    "Exception actually helps us in a  very good way becouse we can provide the right kind of messages to user when ever and exception occures in a code.\n"
   ]
  },
  {
   "cell_type": "code",
   "execution_count": 194,
   "id": "29a3aba2",
   "metadata": {},
   "outputs": [
    {
     "name": "stdout",
     "output_type": "stream",
     "text": [
      "The user have not define the variable\n"
     ]
    }
   ],
   "source": [
    "#syntax: \n",
    "del b\n",
    "try:\n",
    "    #code block where exception can occur\n",
    "    a=b\n",
    "except NameError:\n",
    "    print(\"The user have not define the variable\")\n",
    "except Exception as ex:\n",
    "    print(ex)"
   ]
  },
  {
   "cell_type": "code",
   "execution_count": 195,
   "id": "b24945da",
   "metadata": {},
   "outputs": [
    {
     "name": "stdout",
     "output_type": "stream",
     "text": [
      "try to make the data type sililor\n"
     ]
    }
   ],
   "source": [
    "try:\n",
    "    a=1\n",
    "    b=\"s\"\n",
    "    c=a+b\n",
    "except NameError:\n",
    "    print(\"The user have not define the variable\")\n",
    "except TypeError:\n",
    "    print(\"try to make the data type sililor\")\n",
    "except Exception as ex:\n",
    "    print(ex)"
   ]
  },
  {
   "cell_type": "code",
   "execution_count": 196,
   "id": "7faf0822",
   "metadata": {},
   "outputs": [
    {
     "name": "stdout",
     "output_type": "stream",
     "text": [
      "Enter number:10\n",
      "Enter number:0\n",
      "Cant Devid with Zero\n"
     ]
    }
   ],
   "source": [
    "try:\n",
    "    a=int(input(\"Enter number:\"))\n",
    "    b=int(input(\"Enter number:\"))\n",
    "    c=a/b\n",
    "    d=a*b\n",
    "    e=a+b\n",
    "    print(c)\n",
    "    print(d)\n",
    "    print(e)\n",
    "except ZeroDivisionError:\n",
    "    print(\"Cant Devid with Zero\")\n",
    "except Exception as ex:\n",
    "    print(ex)"
   ]
  },
  {
   "cell_type": "code",
   "execution_count": 197,
   "id": "f76982f2",
   "metadata": {},
   "outputs": [
    {
     "name": "stdout",
     "output_type": "stream",
     "text": [
      "Enter number:10\n",
      "Enter number:20\n",
      "0.5\n",
      "200\n",
      "30\n"
     ]
    }
   ],
   "source": [
    "#else\n",
    "try:\n",
    "    a=int(input(\"Enter number:\"))\n",
    "    b=int(input(\"Enter number:\"))\n",
    "    c=a/b\n",
    "    d=a*b\n",
    "    e=a+b\n",
    "\n",
    "except ZeroDivisionError:\n",
    "    print(\"Cant Devid with Zero\")\n",
    "except Exception as ex:\n",
    "    print(ex)\n",
    "else:\n",
    "    print(c)\n",
    "    print(d)\n",
    "    print(e)"
   ]
  },
  {
   "cell_type": "code",
   "execution_count": 198,
   "id": "855cebcf",
   "metadata": {
    "scrolled": true
   },
   "outputs": [
    {
     "name": "stdout",
     "output_type": "stream",
     "text": [
      "Enter number:10\n",
      "Enter number:20\n",
      "200\n",
      "30\n",
      "0.5\n",
      "200\n",
      "30\n",
      "The Execution is Done\n"
     ]
    }
   ],
   "source": [
    "#fuinally\n",
    "try:\n",
    "    a=int(input(\"Enter number:\"))\n",
    "    b=int(input(\"Enter number:\"))\n",
    "    \n",
    "    d=a*b\n",
    "    e=a+b\n",
    "    c=a/b\n",
    "    print(d)\n",
    "    print(e)\n",
    "except ZeroDivisionError:\n",
    "    print(\"Cant Devid with Zero\")\n",
    "except Exception as ex:\n",
    "    print(ex)\n",
    "else:\n",
    "    print(c)\n",
    "    \n",
    "finally:\n",
    "    print(d)\n",
    "    print(e)\n",
    "    print(\"The Execution is Done\")\n",
    "    "
   ]
  },
  {
   "cell_type": "markdown",
   "id": "4c0a3a25",
   "metadata": {},
   "source": [
    "# Task24: for with Exceptional"
   ]
  },
  {
   "cell_type": "code",
   "execution_count": 199,
   "id": "a096d9ea",
   "metadata": {},
   "outputs": [
    {
     "name": "stdout",
     "output_type": "stream",
     "text": [
      "Iterate\n",
      "done\n",
      "Iterate\n",
      "done\n",
      "Iterate\n",
      "done\n",
      "Iterate\n",
      "done\n",
      "Iterate\n",
      "done\n",
      "Iterate\n",
      "done\n"
     ]
    }
   ],
   "source": [
    "#for with exceptional handling\n",
    "for i in range(1,7):\n",
    "    try:\n",
    "        a=6/i\n",
    "    except:\n",
    "        print(\"Error occured\")\n",
    "    else:\n",
    "        print(\"Iterate\")\n",
    "    finally:\n",
    "        print(\"done\")\n",
    "        "
   ]
  },
  {
   "cell_type": "code",
   "execution_count": 200,
   "id": "d2edb8fa",
   "metadata": {},
   "outputs": [
    {
     "name": "stdout",
     "output_type": "stream",
     "text": [
      "String Cannot convert in to integer\n"
     ]
    }
   ],
   "source": [
    "#raise\n",
    "name=\"mohan\"\n",
    "try:\n",
    "    number=int(name)\n",
    "except ValueError:\n",
    "    print('String Cannot convert in to integer')"
   ]
  },
  {
   "cell_type": "markdown",
   "id": "459419fa",
   "metadata": {},
   "source": [
    "# Task23: Date and Time Module"
   ]
  },
  {
   "cell_type": "code",
   "execution_count": 201,
   "id": "52db6688",
   "metadata": {},
   "outputs": [
    {
     "name": "stdout",
     "output_type": "stream",
     "text": [
      "date passed as argument is 1995-06-13\n"
     ]
    }
   ],
   "source": [
    "from datetime import date\n",
    "my_date=date(1995,6,13)\n",
    "print(\"date passed as argument is\",my_date)\n"
   ]
  },
  {
   "cell_type": "code",
   "execution_count": 202,
   "id": "a5b02409",
   "metadata": {},
   "outputs": [
    {
     "name": "stdout",
     "output_type": "stream",
     "text": [
      "today date is  2022-02-15\n"
     ]
    }
   ],
   "source": [
    "from datetime import date\n",
    "today=date.today()\n",
    "print(\"today date is \",today)\n"
   ]
  },
  {
   "cell_type": "code",
   "execution_count": 203,
   "id": "c2e06645",
   "metadata": {},
   "outputs": [
    {
     "name": "stdout",
     "output_type": "stream",
     "text": [
      "current year: 2022\n",
      "current month: 2\n",
      "current day 15\n"
     ]
    }
   ],
   "source": [
    "from datetime import date\n",
    "today=date.today()\n",
    "print(\"current year:\",today.year)\n",
    "print(\"current month:\",today.month)\n",
    "print(\"current day\",today.day)\n"
   ]
  },
  {
   "cell_type": "code",
   "execution_count": 204,
   "id": "a2125c6c",
   "metadata": {},
   "outputs": [
    {
     "name": "stdout",
     "output_type": "stream",
     "text": [
      "hour= 18\n",
      "minute= 16\n",
      "second= 17\n",
      "microsecond= 0\n"
     ]
    }
   ],
   "source": [
    "from datetime import time\n",
    "t=time(18,16,17)\n",
    "print(\"hour=\",t.hour)\n",
    "print(\"minute=\",t.minute)\n",
    "print(\"second=\",t.second)\n",
    "print(\"microsecond=\",t.microsecond)\n"
   ]
  },
  {
   "cell_type": "code",
   "execution_count": 2,
   "id": "d674365e",
   "metadata": {},
   "outputs": [
    {
     "ename": "NameError",
     "evalue": "name 'time' is not defined",
     "output_type": "error",
     "traceback": [
      "\u001b[1;31m---------------------------------------------------------------------------\u001b[0m",
      "\u001b[1;31mNameError\u001b[0m                                 Traceback (most recent call last)",
      "\u001b[1;32m~\\AppData\\Local\\Temp/ipykernel_8584/473153597.py\u001b[0m in \u001b[0;36m<module>\u001b[1;34m\u001b[0m\n\u001b[1;32m----> 1\u001b[1;33m \u001b[0mtime\u001b[0m\u001b[1;33m.\u001b[0m\u001b[0mnow\u001b[0m\u001b[1;33m(\u001b[0m\u001b[1;33m)\u001b[0m\u001b[1;33m\u001b[0m\u001b[1;33m\u001b[0m\u001b[0m\n\u001b[0m",
      "\u001b[1;31mNameError\u001b[0m: name 'time' is not defined"
     ]
    }
   ],
   "source": [
    "time.now()"
   ]
  },
  {
   "cell_type": "markdown",
   "id": "d0673a1f",
   "metadata": {},
   "source": [
    "# Task 25: Supermarket Project"
   ]
  },
  {
   "cell_type": "code",
   "execution_count": 206,
   "id": "494775fb",
   "metadata": {},
   "outputs": [
    {
     "name": "stdout",
     "output_type": "stream",
     "text": [
      "Enter Your Name:mohan\n",
      "Enter your Address:652\n",
      "Enter Your Mobile Number452\n",
      "Enter Item Name:book\n",
      "Enter Quantity:6\n",
      "If you wnat to add Items in your kart YES|NO:yes\n",
      "Enter Item Name:pen\n",
      "Enter Quantity:2\n",
      "If you wnat to add Items in your kart YES|NO:no\n",
      "\n",
      "\n",
      "\n",
      "\n",
      "\n",
      "\n",
      "**********************************************************************\n",
      "\t ---------- WELCOME TO MOHAN SUPERMARKET ----------\n",
      "**********************************************************************\n",
      "\n",
      "----------------------------------------------------------------------\n",
      "NAME: mohan\n",
      "ADDRESS: 652\n",
      "MOBILE NO.: 452\n",
      "----------------------------------------------------------------------\n",
      "----------------------------------------------------------------------\n",
      "S.No        ITEMS            \t\t QUANTITY   \t PRICE      \n",
      "----------------------------------------------------------------------\n",
      "1            book                 \t 6       \t 780      \n",
      "2            pen                 \t 2       \t 20      \n",
      "----------------------------------------------------------------------\n",
      "                                 \t\tTOTAL: 800\n",
      "                                 \t\tGST: + 144.0\n",
      "\n",
      "\n",
      "\n",
      "\n",
      "----------------------------------------------------------------------\n",
      "                                 \tGRAND TOTAL: 944.0\n",
      "----------------------------------------------------------------------\n",
      "\n",
      "\n",
      "\n",
      "**********************************************************************\n",
      "---------------------------- VISIT AGAIN ----------------------------\n",
      "**********************************************************************\n"
     ]
    }
   ],
   "source": [
    "\n",
    "def wish(name,address,no):\n",
    "    print(\"*\"*70)\n",
    "    print(\"\\t\",\"-\"*10,\"WELCOME TO MOHAN SUPERMARKET\",\"-\"*10)\n",
    "    print(\"*\"*70)\n",
    "    print()\n",
    "    print(\"-\"*70)\n",
    "    print(\"NAME:\",name)\n",
    "    print(\"ADDRESS:\",address)\n",
    "    print(\"MOBILE NO.:\",no)\n",
    "    print(\"-\"*70)\n",
    "def bill(i,ilist,qlist,plist):\n",
    "    total=0\n",
    "    gst=0\n",
    "    for i in plist:\n",
    "        total=total+i\n",
    "    gst=total*18/100\n",
    "    GrandTotal=total+gst\n",
    "    print(\"-\"*70)\n",
    "    print(\"S.No\",\" \"*6,\"ITEMS\",' '*10,\"\\t\\t\",\"QUANTITY\",' '*1,\"\\t\",\"PRICE\",' '*5)\n",
    "    print(\"-\"*70)\n",
    "    for x in range(len(ilist)):\n",
    "        print(x+1,\" \"*10,ilist[x],' '*15,\"\\t\",qlist[x],' '*5,\"\\t\",plist[x],' '*5)\n",
    "    print(\"-\"*70)\n",
    "    print('   '*10,\" \",\"\\t\\tTOTAL:\",total)\n",
    "    print('   '*10,\" \",\"\\t\\tGST: +\",gst)\n",
    "    print(\"\\n\"*3)\n",
    "    print(\"-\"*70)\n",
    "    print('   '*10,\" \",\"\\tGRAND TOTAL:\",GrandTotal)\n",
    "    print(\"-\"*70)\n",
    "        \n",
    "\n",
    "\n",
    "items={'book':130,\n",
    "       'short notes':30,\n",
    "       'long notes':60,\n",
    "       'pen':10,\n",
    "       'pencil':5,\n",
    "       'whitepaper':2,\n",
    "       'pad':50,\n",
    "       'skechs':40}\n",
    "\n",
    "name=input(\"Enter Your Name:\")\n",
    "address=input(\"Enter your Address:\")\n",
    "no=input(\"Enter Your Mobile Number\")\n",
    "\n",
    "\n",
    "i=1\n",
    "ilist=[]\n",
    "qlist=[]\n",
    "plist=[]\n",
    "mainlist=[]\n",
    "\n",
    "while True:\n",
    "    item=input(\"Enter Item Name:\")\n",
    "    quantity=int(input(\"Enter Quantity:\"))\n",
    "    price=items[item]*quantity\n",
    "    i+=1\n",
    "    ilist.append(item)\n",
    "    qlist.append(quantity)\n",
    "    plist.append(price)\n",
    "   # mainlist.append([i,ilist,qlist,plist])\n",
    "    option=input(\"If you wnat to add Items in your kart YES|NO:\")\n",
    "    if option==\"no\":\n",
    "        break\n",
    "print(\"\\n\"*5)\n",
    "wish(name,address,no)        \n",
    "bill(i,ilist,qlist,plist)\n",
    "print(\"\\n\\n\")\n",
    "\n",
    "print(\"*\"*70)\n",
    "print(\"-\"*28,\"VISIT AGAIN\",\"-\"*28)\n",
    "print(\"*\"*70)\n",
    "\n",
    "        \n",
    "\n"
   ]
  },
  {
   "cell_type": "code",
   "execution_count": null,
   "id": "b29873d7",
   "metadata": {},
   "outputs": [],
   "source": []
  }
 ],
 "metadata": {
  "kernelspec": {
   "display_name": "Python 3 (ipykernel)",
   "language": "python",
   "name": "python3"
  },
  "language_info": {
   "codemirror_mode": {
    "name": "ipython",
    "version": 3
   },
   "file_extension": ".py",
   "mimetype": "text/x-python",
   "name": "python",
   "nbconvert_exporter": "python",
   "pygments_lexer": "ipython3",
   "version": "3.9.7"
  }
 },
 "nbformat": 4,
 "nbformat_minor": 5
}
